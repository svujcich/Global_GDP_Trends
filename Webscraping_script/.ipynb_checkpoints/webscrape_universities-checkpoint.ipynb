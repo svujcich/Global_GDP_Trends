{
 "cells": [
  {
   "cell_type": "markdown",
   "id": "f9c070c8",
   "metadata": {},
   "source": [
    "## webscrape list of universities by country"
   ]
  },
  {
   "cell_type": "code",
   "execution_count": 1,
   "id": "9eb85380",
   "metadata": {},
   "outputs": [],
   "source": [
    "#initial imports\n",
    "from splinter import Browser\n",
    "from bs4 import BeautifulSoup as soup\n",
    "from webdriver_manager.chrome import ChromeDriverManager\n",
    "import pandas as pd\n",
    "import os\n",
    "import pycountry"
   ]
  },
  {
   "cell_type": "code",
   "execution_count": 1,
   "id": "d1cccfaf",
   "metadata": {},
   "outputs": [],
   "source": [
    "# imports for closing pop ups\n",
    "from selenium import webdriver\n",
    "from selenium.webdriver.chrome.options import Options"
   ]
  },
  {
   "cell_type": "code",
   "execution_count": 2,
   "id": "b6a4fe2f",
   "metadata": {},
   "outputs": [
    {
     "name": "stdout",
     "output_type": "stream",
     "text": [
      "['https://www.4icu.org/reviews/index0001.htm', 'https://www.4icu.org/reviews/index2.htm', 'https://www.4icu.org/reviews/index3.htm', 'https://www.4icu.org/reviews/index4.htm', 'https://www.4icu.org/reviews/index5.htm', 'https://www.4icu.org/reviews/index6.htm', 'https://www.4icu.org/reviews/index7.htm', 'https://www.4icu.org/reviews/index8.htm', 'https://www.4icu.org/reviews/index9.htm', 'https://www.4icu.org/reviews/index10.htm', 'https://www.4icu.org/reviews/index11.htm', 'https://www.4icu.org/reviews/index12.htm', 'https://www.4icu.org/reviews/index13.htm', 'https://www.4icu.org/reviews/index14.htm', 'https://www.4icu.org/reviews/index15.htm', 'https://www.4icu.org/reviews/index16.htm', 'https://www.4icu.org/reviews/index17.htm', 'https://www.4icu.org/reviews/index18.htm', 'https://www.4icu.org/reviews/index19.htm', 'https://www.4icu.org/reviews/index20.htm', 'https://www.4icu.org/reviews/index21.htm', 'https://www.4icu.org/reviews/index22.htm', 'https://www.4icu.org/reviews/index23.htm', 'https://www.4icu.org/reviews/index24.htm', 'https://www.4icu.org/reviews/index25.htm', 'https://www.4icu.org/reviews/index26.htm', 'https://www.4icu.org/reviews/index27.htm']\n"
     ]
    }
   ],
   "source": [
    "#ran into pop ups when automated browser clicks \"next\". \n",
    "# working around problem by opening and closing a new browser for each page of the website.\n",
    "\n",
    "\n",
    "# create a list of urls to visit\n",
    "urls = []\n",
    "\n",
    "# add url for universities that start with 0-9 to list of urls\n",
    "url = (\"https://www.4icu.org/reviews/index0001.htm\")\n",
    "urls.append(url)\n",
    "# print(urls)\n",
    "\n",
    "\n",
    "# add urls for universities that start with A-Z to list of urls\n",
    "#convert int to str found (https://stackoverflow.com/questions/52499991/how-to-append-a-integer-iteration-into-a-string-in-python)\n",
    "# for url in urls:\n",
    "for i in range(2, 28):       \n",
    "    url = 'https://www.4icu.org/reviews/index'+ str(i) +'.htm'\n",
    "    urls.append(url)\n",
    "    \n",
    "print(urls)"
   ]
  },
  {
   "cell_type": "code",
   "execution_count": null,
   "id": "ea8753ad",
   "metadata": {},
   "outputs": [],
   "source": [
    "#create loop to open new browser, visit each url in the urls list, extract the data, and close the browser\n",
    "\n",
    "# Set up Splinter\n",
    "executable_path = {'executable_path': ChromeDriverManager().install()}\n",
    "\n",
    "#create an empty list for the table data\n",
    "row_data = []\n",
    "\n",
    "for i in urls:\n",
    "    \n",
    "    # set up browser\n",
    "    browser = Browser('chrome', **executable_path, headless=False) \n",
    "               \n",
    "    # Visit UniRank website\n",
    "    url = i\n",
    "    browser.visit(url)\n",
    "    browser.is_element_present_by_css('div.list_text', wait_time=1)\n",
    "\n",
    "    # parse the html\n",
    "    html = browser.html\n",
    "    html_soup = soup(html, 'html.parser')\n",
    "\n",
    "    #isolate the table\n",
    "    universities_table = html_soup.find('table', class_='table table-hover text-left')\n",
    "\n",
    "    #loop through rows, collect data, append data to list, close browser\n",
    "    for i in range(len(urls)):\n",
    "        for row in universities_table.find_all('tr'):\n",
    "            col = row.find_all('td')\n",
    "            col = [ele.text.strip()for ele in col]\n",
    "            row_data.append(col)\n",
    "            \n",
    "    # close browser          \n",
    "    browser.quit()\n",
    "        \n",
    "# print(row_data)"
   ]
  },
  {
   "cell_type": "code",
   "execution_count": null,
   "id": "045ab906",
   "metadata": {},
   "outputs": [],
   "source": [
    "university_df = pd.DataFrame(row_data, columns=[\"University Name\", \"Country\"])\n",
    "university_df"
   ]
  },
  {
   "cell_type": "code",
   "execution_count": null,
   "id": "8e41db20",
   "metadata": {},
   "outputs": [],
   "source": [
    "university_df.to_csv('C:/Users/sarah/OneDrive/Desktop/Global_GDP_Trends/Resources/webscraped_university_names.csv', index=True)"
   ]
  }
 ],
 "metadata": {
  "kernelspec": {
   "display_name": "Python 3 (ipykernel)",
   "language": "python",
   "name": "python3"
  },
  "language_info": {
   "codemirror_mode": {
    "name": "ipython",
    "version": 3
   },
   "file_extension": ".py",
   "mimetype": "text/x-python",
   "name": "python",
   "nbconvert_exporter": "python",
   "pygments_lexer": "ipython3",
   "version": "3.9.12"
  }
 },
 "nbformat": 4,
 "nbformat_minor": 5
}
