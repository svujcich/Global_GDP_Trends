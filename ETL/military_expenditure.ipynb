{
 "cells": [
  {
   "cell_type": "code",
   "execution_count": 1,
   "id": "6e29a40c",
   "metadata": {},
   "outputs": [],
   "source": [
    "#Import Depenencies\n",
    "\n",
    "import pandas as pd"
   ]
  },
  {
   "cell_type": "code",
   "execution_count": 2,
   "id": "96014a89",
   "metadata": {},
   "outputs": [],
   "source": [
    "#Creating a path to the .csv file.\n",
    "file_to_mil = \"Resources/military_expenditure.csv\"\n",
    "file_to_codes = \"Resources/country-codes.csv\""
   ]
  },
  {
   "cell_type": "code",
   "execution_count": 3,
   "id": "52a813fa",
   "metadata": {},
   "outputs": [
    {
     "ename": "FileNotFoundError",
     "evalue": "[Errno 2] No such file or directory: 'Resources/military_expenditure.csv'",
     "output_type": "error",
     "traceback": [
      "\u001b[1;31m---------------------------------------------------------------------------\u001b[0m",
      "\u001b[1;31mFileNotFoundError\u001b[0m                         Traceback (most recent call last)",
      "\u001b[1;32m~\\AppData\\Local\\Temp\\ipykernel_21980\\404297026.py\u001b[0m in \u001b[0;36m<module>\u001b[1;34m\u001b[0m\n\u001b[1;32m----> 1\u001b[1;33m \u001b[0mmil_csv\u001b[0m \u001b[1;33m=\u001b[0m \u001b[0mpd\u001b[0m\u001b[1;33m.\u001b[0m\u001b[0mread_csv\u001b[0m\u001b[1;33m(\u001b[0m\u001b[0mfile_to_mil\u001b[0m\u001b[1;33m)\u001b[0m\u001b[1;33m\u001b[0m\u001b[1;33m\u001b[0m\u001b[0m\n\u001b[0m",
      "\u001b[1;32m~\\anaconda3\\envs\\PythonData\\lib\\site-packages\\pandas\\util\\_decorators.py\u001b[0m in \u001b[0;36mwrapper\u001b[1;34m(*args, **kwargs)\u001b[0m\n\u001b[0;32m    309\u001b[0m                     \u001b[0mstacklevel\u001b[0m\u001b[1;33m=\u001b[0m\u001b[0mstacklevel\u001b[0m\u001b[1;33m,\u001b[0m\u001b[1;33m\u001b[0m\u001b[1;33m\u001b[0m\u001b[0m\n\u001b[0;32m    310\u001b[0m                 )\n\u001b[1;32m--> 311\u001b[1;33m             \u001b[1;32mreturn\u001b[0m \u001b[0mfunc\u001b[0m\u001b[1;33m(\u001b[0m\u001b[1;33m*\u001b[0m\u001b[0margs\u001b[0m\u001b[1;33m,\u001b[0m \u001b[1;33m**\u001b[0m\u001b[0mkwargs\u001b[0m\u001b[1;33m)\u001b[0m\u001b[1;33m\u001b[0m\u001b[1;33m\u001b[0m\u001b[0m\n\u001b[0m\u001b[0;32m    312\u001b[0m \u001b[1;33m\u001b[0m\u001b[0m\n\u001b[0;32m    313\u001b[0m         \u001b[1;32mreturn\u001b[0m \u001b[0mwrapper\u001b[0m\u001b[1;33m\u001b[0m\u001b[1;33m\u001b[0m\u001b[0m\n",
      "\u001b[1;32m~\\anaconda3\\envs\\PythonData\\lib\\site-packages\\pandas\\io\\parsers\\readers.py\u001b[0m in \u001b[0;36mread_csv\u001b[1;34m(filepath_or_buffer, sep, delimiter, header, names, index_col, usecols, squeeze, prefix, mangle_dupe_cols, dtype, engine, converters, true_values, false_values, skipinitialspace, skiprows, skipfooter, nrows, na_values, keep_default_na, na_filter, verbose, skip_blank_lines, parse_dates, infer_datetime_format, keep_date_col, date_parser, dayfirst, cache_dates, iterator, chunksize, compression, thousands, decimal, lineterminator, quotechar, quoting, doublequote, escapechar, comment, encoding, encoding_errors, dialect, error_bad_lines, warn_bad_lines, on_bad_lines, delim_whitespace, low_memory, memory_map, float_precision, storage_options)\u001b[0m\n\u001b[0;32m    584\u001b[0m     \u001b[0mkwds\u001b[0m\u001b[1;33m.\u001b[0m\u001b[0mupdate\u001b[0m\u001b[1;33m(\u001b[0m\u001b[0mkwds_defaults\u001b[0m\u001b[1;33m)\u001b[0m\u001b[1;33m\u001b[0m\u001b[1;33m\u001b[0m\u001b[0m\n\u001b[0;32m    585\u001b[0m \u001b[1;33m\u001b[0m\u001b[0m\n\u001b[1;32m--> 586\u001b[1;33m     \u001b[1;32mreturn\u001b[0m \u001b[0m_read\u001b[0m\u001b[1;33m(\u001b[0m\u001b[0mfilepath_or_buffer\u001b[0m\u001b[1;33m,\u001b[0m \u001b[0mkwds\u001b[0m\u001b[1;33m)\u001b[0m\u001b[1;33m\u001b[0m\u001b[1;33m\u001b[0m\u001b[0m\n\u001b[0m\u001b[0;32m    587\u001b[0m \u001b[1;33m\u001b[0m\u001b[0m\n\u001b[0;32m    588\u001b[0m \u001b[1;33m\u001b[0m\u001b[0m\n",
      "\u001b[1;32m~\\anaconda3\\envs\\PythonData\\lib\\site-packages\\pandas\\io\\parsers\\readers.py\u001b[0m in \u001b[0;36m_read\u001b[1;34m(filepath_or_buffer, kwds)\u001b[0m\n\u001b[0;32m    480\u001b[0m \u001b[1;33m\u001b[0m\u001b[0m\n\u001b[0;32m    481\u001b[0m     \u001b[1;31m# Create the parser.\u001b[0m\u001b[1;33m\u001b[0m\u001b[1;33m\u001b[0m\u001b[1;33m\u001b[0m\u001b[0m\n\u001b[1;32m--> 482\u001b[1;33m     \u001b[0mparser\u001b[0m \u001b[1;33m=\u001b[0m \u001b[0mTextFileReader\u001b[0m\u001b[1;33m(\u001b[0m\u001b[0mfilepath_or_buffer\u001b[0m\u001b[1;33m,\u001b[0m \u001b[1;33m**\u001b[0m\u001b[0mkwds\u001b[0m\u001b[1;33m)\u001b[0m\u001b[1;33m\u001b[0m\u001b[1;33m\u001b[0m\u001b[0m\n\u001b[0m\u001b[0;32m    483\u001b[0m \u001b[1;33m\u001b[0m\u001b[0m\n\u001b[0;32m    484\u001b[0m     \u001b[1;32mif\u001b[0m \u001b[0mchunksize\u001b[0m \u001b[1;32mor\u001b[0m \u001b[0miterator\u001b[0m\u001b[1;33m:\u001b[0m\u001b[1;33m\u001b[0m\u001b[1;33m\u001b[0m\u001b[0m\n",
      "\u001b[1;32m~\\anaconda3\\envs\\PythonData\\lib\\site-packages\\pandas\\io\\parsers\\readers.py\u001b[0m in \u001b[0;36m__init__\u001b[1;34m(self, f, engine, **kwds)\u001b[0m\n\u001b[0;32m    809\u001b[0m             \u001b[0mself\u001b[0m\u001b[1;33m.\u001b[0m\u001b[0moptions\u001b[0m\u001b[1;33m[\u001b[0m\u001b[1;34m\"has_index_names\"\u001b[0m\u001b[1;33m]\u001b[0m \u001b[1;33m=\u001b[0m \u001b[0mkwds\u001b[0m\u001b[1;33m[\u001b[0m\u001b[1;34m\"has_index_names\"\u001b[0m\u001b[1;33m]\u001b[0m\u001b[1;33m\u001b[0m\u001b[1;33m\u001b[0m\u001b[0m\n\u001b[0;32m    810\u001b[0m \u001b[1;33m\u001b[0m\u001b[0m\n\u001b[1;32m--> 811\u001b[1;33m         \u001b[0mself\u001b[0m\u001b[1;33m.\u001b[0m\u001b[0m_engine\u001b[0m \u001b[1;33m=\u001b[0m \u001b[0mself\u001b[0m\u001b[1;33m.\u001b[0m\u001b[0m_make_engine\u001b[0m\u001b[1;33m(\u001b[0m\u001b[0mself\u001b[0m\u001b[1;33m.\u001b[0m\u001b[0mengine\u001b[0m\u001b[1;33m)\u001b[0m\u001b[1;33m\u001b[0m\u001b[1;33m\u001b[0m\u001b[0m\n\u001b[0m\u001b[0;32m    812\u001b[0m \u001b[1;33m\u001b[0m\u001b[0m\n\u001b[0;32m    813\u001b[0m     \u001b[1;32mdef\u001b[0m \u001b[0mclose\u001b[0m\u001b[1;33m(\u001b[0m\u001b[0mself\u001b[0m\u001b[1;33m)\u001b[0m\u001b[1;33m:\u001b[0m\u001b[1;33m\u001b[0m\u001b[1;33m\u001b[0m\u001b[0m\n",
      "\u001b[1;32m~\\anaconda3\\envs\\PythonData\\lib\\site-packages\\pandas\\io\\parsers\\readers.py\u001b[0m in \u001b[0;36m_make_engine\u001b[1;34m(self, engine)\u001b[0m\n\u001b[0;32m   1038\u001b[0m             )\n\u001b[0;32m   1039\u001b[0m         \u001b[1;31m# error: Too many arguments for \"ParserBase\"\u001b[0m\u001b[1;33m\u001b[0m\u001b[1;33m\u001b[0m\u001b[1;33m\u001b[0m\u001b[0m\n\u001b[1;32m-> 1040\u001b[1;33m         \u001b[1;32mreturn\u001b[0m \u001b[0mmapping\u001b[0m\u001b[1;33m[\u001b[0m\u001b[0mengine\u001b[0m\u001b[1;33m]\u001b[0m\u001b[1;33m(\u001b[0m\u001b[0mself\u001b[0m\u001b[1;33m.\u001b[0m\u001b[0mf\u001b[0m\u001b[1;33m,\u001b[0m \u001b[1;33m**\u001b[0m\u001b[0mself\u001b[0m\u001b[1;33m.\u001b[0m\u001b[0moptions\u001b[0m\u001b[1;33m)\u001b[0m  \u001b[1;31m# type: ignore[call-arg]\u001b[0m\u001b[1;33m\u001b[0m\u001b[1;33m\u001b[0m\u001b[0m\n\u001b[0m\u001b[0;32m   1041\u001b[0m \u001b[1;33m\u001b[0m\u001b[0m\n\u001b[0;32m   1042\u001b[0m     \u001b[1;32mdef\u001b[0m \u001b[0m_failover_to_python\u001b[0m\u001b[1;33m(\u001b[0m\u001b[0mself\u001b[0m\u001b[1;33m)\u001b[0m\u001b[1;33m:\u001b[0m\u001b[1;33m\u001b[0m\u001b[1;33m\u001b[0m\u001b[0m\n",
      "\u001b[1;32m~\\anaconda3\\envs\\PythonData\\lib\\site-packages\\pandas\\io\\parsers\\c_parser_wrapper.py\u001b[0m in \u001b[0;36m__init__\u001b[1;34m(self, src, **kwds)\u001b[0m\n\u001b[0;32m     49\u001b[0m \u001b[1;33m\u001b[0m\u001b[0m\n\u001b[0;32m     50\u001b[0m         \u001b[1;31m# open handles\u001b[0m\u001b[1;33m\u001b[0m\u001b[1;33m\u001b[0m\u001b[1;33m\u001b[0m\u001b[0m\n\u001b[1;32m---> 51\u001b[1;33m         \u001b[0mself\u001b[0m\u001b[1;33m.\u001b[0m\u001b[0m_open_handles\u001b[0m\u001b[1;33m(\u001b[0m\u001b[0msrc\u001b[0m\u001b[1;33m,\u001b[0m \u001b[0mkwds\u001b[0m\u001b[1;33m)\u001b[0m\u001b[1;33m\u001b[0m\u001b[1;33m\u001b[0m\u001b[0m\n\u001b[0m\u001b[0;32m     52\u001b[0m         \u001b[1;32massert\u001b[0m \u001b[0mself\u001b[0m\u001b[1;33m.\u001b[0m\u001b[0mhandles\u001b[0m \u001b[1;32mis\u001b[0m \u001b[1;32mnot\u001b[0m \u001b[1;32mNone\u001b[0m\u001b[1;33m\u001b[0m\u001b[1;33m\u001b[0m\u001b[0m\n\u001b[0;32m     53\u001b[0m \u001b[1;33m\u001b[0m\u001b[0m\n",
      "\u001b[1;32m~\\anaconda3\\envs\\PythonData\\lib\\site-packages\\pandas\\io\\parsers\\base_parser.py\u001b[0m in \u001b[0;36m_open_handles\u001b[1;34m(self, src, kwds)\u001b[0m\n\u001b[0;32m    227\u001b[0m             \u001b[0mmemory_map\u001b[0m\u001b[1;33m=\u001b[0m\u001b[0mkwds\u001b[0m\u001b[1;33m.\u001b[0m\u001b[0mget\u001b[0m\u001b[1;33m(\u001b[0m\u001b[1;34m\"memory_map\"\u001b[0m\u001b[1;33m,\u001b[0m \u001b[1;32mFalse\u001b[0m\u001b[1;33m)\u001b[0m\u001b[1;33m,\u001b[0m\u001b[1;33m\u001b[0m\u001b[1;33m\u001b[0m\u001b[0m\n\u001b[0;32m    228\u001b[0m             \u001b[0mstorage_options\u001b[0m\u001b[1;33m=\u001b[0m\u001b[0mkwds\u001b[0m\u001b[1;33m.\u001b[0m\u001b[0mget\u001b[0m\u001b[1;33m(\u001b[0m\u001b[1;34m\"storage_options\"\u001b[0m\u001b[1;33m,\u001b[0m \u001b[1;32mNone\u001b[0m\u001b[1;33m)\u001b[0m\u001b[1;33m,\u001b[0m\u001b[1;33m\u001b[0m\u001b[1;33m\u001b[0m\u001b[0m\n\u001b[1;32m--> 229\u001b[1;33m             \u001b[0merrors\u001b[0m\u001b[1;33m=\u001b[0m\u001b[0mkwds\u001b[0m\u001b[1;33m.\u001b[0m\u001b[0mget\u001b[0m\u001b[1;33m(\u001b[0m\u001b[1;34m\"encoding_errors\"\u001b[0m\u001b[1;33m,\u001b[0m \u001b[1;34m\"strict\"\u001b[0m\u001b[1;33m)\u001b[0m\u001b[1;33m,\u001b[0m\u001b[1;33m\u001b[0m\u001b[1;33m\u001b[0m\u001b[0m\n\u001b[0m\u001b[0;32m    230\u001b[0m         )\n\u001b[0;32m    231\u001b[0m \u001b[1;33m\u001b[0m\u001b[0m\n",
      "\u001b[1;32m~\\anaconda3\\envs\\PythonData\\lib\\site-packages\\pandas\\io\\common.py\u001b[0m in \u001b[0;36mget_handle\u001b[1;34m(path_or_buf, mode, encoding, compression, memory_map, is_text, errors, storage_options)\u001b[0m\n\u001b[0;32m    705\u001b[0m                 \u001b[0mencoding\u001b[0m\u001b[1;33m=\u001b[0m\u001b[0mioargs\u001b[0m\u001b[1;33m.\u001b[0m\u001b[0mencoding\u001b[0m\u001b[1;33m,\u001b[0m\u001b[1;33m\u001b[0m\u001b[1;33m\u001b[0m\u001b[0m\n\u001b[0;32m    706\u001b[0m                 \u001b[0merrors\u001b[0m\u001b[1;33m=\u001b[0m\u001b[0merrors\u001b[0m\u001b[1;33m,\u001b[0m\u001b[1;33m\u001b[0m\u001b[1;33m\u001b[0m\u001b[0m\n\u001b[1;32m--> 707\u001b[1;33m                 \u001b[0mnewline\u001b[0m\u001b[1;33m=\u001b[0m\u001b[1;34m\"\"\u001b[0m\u001b[1;33m,\u001b[0m\u001b[1;33m\u001b[0m\u001b[1;33m\u001b[0m\u001b[0m\n\u001b[0m\u001b[0;32m    708\u001b[0m             )\n\u001b[0;32m    709\u001b[0m         \u001b[1;32melse\u001b[0m\u001b[1;33m:\u001b[0m\u001b[1;33m\u001b[0m\u001b[1;33m\u001b[0m\u001b[0m\n",
      "\u001b[1;31mFileNotFoundError\u001b[0m: [Errno 2] No such file or directory: 'Resources/military_expenditure.csv'"
     ]
    }
   ],
   "source": [
    "mil_csv = pd.read_csv(file_to_mil)"
   ]
  },
  {
   "cell_type": "code",
   "execution_count": null,
   "id": "569e6ce8",
   "metadata": {},
   "outputs": [],
   "source": [
    "#Creating a DataFrame using Pandas\n",
    "\n",
    "mil_df = pd.DataFrame(mil_csv)\n",
    "mil_df"
   ]
  },
  {
   "cell_type": "code",
   "execution_count": null,
   "id": "5adbae18",
   "metadata": {},
   "outputs": [],
   "source": [
    "#Drop first 3 rows with no data\n",
    "mil_df_clean = mil_df.iloc[3:, :]\n",
    "\n",
    "#Use new first row as headers\n",
    "headers = mil_df_clean.iloc[0]\n",
    "mil_df_clean = mil_df_clean[1:]\n",
    "mil_df_clean.columns = headers\n",
    "\n",
    "mil_df_clean.head(10)"
   ]
  },
  {
   "cell_type": "code",
   "execution_count": null,
   "id": "31b19c12",
   "metadata": {},
   "outputs": [],
   "source": [
    "#Drop the columns we don't need for our analysis.\n",
    "mil_exp_df = mil_df_clean.drop(mil_df_clean.columns[2:45], inplace=False, axis=1)\n",
    "mil_exp_df"
   ]
  },
  {
   "cell_type": "code",
   "execution_count": null,
   "id": "935928a4",
   "metadata": {},
   "outputs": [],
   "source": [
    "mil_exp_df.drop(mil_exp_df.columns[21:23], inplace=True, axis=1)"
   ]
  },
  {
   "cell_type": "code",
   "execution_count": null,
   "id": "428f7ac4",
   "metadata": {
    "scrolled": true
   },
   "outputs": [],
   "source": [
    "#Reformat the column names.\n",
    "mil_exp_df = mil_exp_df.set_axis(['country_name', 'country_code', 'mil_2001', 'mil_2002', 'mil_2003', 'mil_2004', 'mil_2005', 'mil_2006', 'mil_2007', 'mil_2008',\\\n",
    "                                   'mil_2009', 'mil_2010', 'mil_2011', 'mil_2012', 'mil_2013', 'mil_2014', 'mil_2015', 'mil_2016', 'mil_2017', 'mil_2018', 'mil_2019'], axis=1)\n",
    "mil_exp_df"
   ]
  },
  {
   "cell_type": "code",
   "execution_count": null,
   "id": "155e6abb",
   "metadata": {},
   "outputs": [],
   "source": [
    "#Identify any null values in our dataset.\n",
    "mil_exp_df.count()"
   ]
  },
  {
   "cell_type": "code",
   "execution_count": null,
   "id": "8c795746",
   "metadata": {},
   "outputs": [],
   "source": [
    "#Add the country codes csv\n",
    "country_codes_df = pd.read_csv(file_to_codes)\n",
    "country_codes_df"
   ]
  },
  {
   "cell_type": "code",
   "execution_count": null,
   "id": "3ba4b98a",
   "metadata": {},
   "outputs": [],
   "source": [
    "#Drop columns from the country code csv\n",
    "country_codes_df.drop(country_codes_df.columns[3:5], inplace=True, axis=1)"
   ]
  },
  {
   "cell_type": "code",
   "execution_count": null,
   "id": "c74bc027",
   "metadata": {},
   "outputs": [],
   "source": [
    "#Drop the Alpha-2 code.\n",
    "country_codes_df.drop(country_codes_df.columns[1], inplace=True, axis=1)"
   ]
  },
  {
   "cell_type": "code",
   "execution_count": null,
   "id": "38b11589",
   "metadata": {},
   "outputs": [],
   "source": [
    "#Rename the Alpha-3 code\n",
    "country_codes_df = country_codes_df.rename(columns={\"Alpha-3 code\": \"country_code\",\"English short name lower case\":\"Country Name\"})"
   ]
  },
  {
   "cell_type": "code",
   "execution_count": null,
   "id": "057583dd",
   "metadata": {},
   "outputs": [],
   "source": [
    "country_codes_df"
   ]
  },
  {
   "cell_type": "code",
   "execution_count": null,
   "id": "ae03a7a6",
   "metadata": {},
   "outputs": [],
   "source": [
    "countries_mil_exp_df = pd.merge(mil_exp_df, country_codes_df, on= \"country_code\", suffixes=[\"\",\"_codes\"])\n",
    "countries_mil_exp_df"
   ]
  },
  {
   "cell_type": "code",
   "execution_count": null,
   "id": "238895f1",
   "metadata": {},
   "outputs": [],
   "source": [
    "#Removing any null values.\n",
    "countries_mil_exp_df.dropna(inplace=True)"
   ]
  },
  {
   "cell_type": "code",
   "execution_count": null,
   "id": "1b5a3287",
   "metadata": {},
   "outputs": [],
   "source": [
    "#Remove Country Name_codes column.\n",
    "countries_mil_exp_df.drop(columns=\"Country Name\", inplace=True)"
   ]
  },
  {
   "cell_type": "code",
   "execution_count": null,
   "id": "7e220703",
   "metadata": {},
   "outputs": [],
   "source": [
    "countries_mil_exp_df"
   ]
  },
  {
   "cell_type": "code",
   "execution_count": null,
   "id": "2bb20ad8",
   "metadata": {},
   "outputs": [],
   "source": [
    "#Import the countries income level to merge with the rest of our dataset.\n",
    "file_income = pd.read_csv(\"Resources/countries_region_income.csv\")"
   ]
  },
  {
   "cell_type": "code",
   "execution_count": null,
   "id": "77fca1ff",
   "metadata": {},
   "outputs": [],
   "source": [
    "#Create a Dataframe for the countries income csv.\n",
    "income_df = pd.DataFrame(file_income)\n",
    "income_df"
   ]
  },
  {
   "cell_type": "code",
   "execution_count": null,
   "id": "717bff19",
   "metadata": {},
   "outputs": [],
   "source": [
    "#Drop columns we don't need.\n",
    "income_df.drop([\"SpecialNotes\", \"Region\", \"TableName\"], axis=1, inplace=True)"
   ]
  },
  {
   "cell_type": "code",
   "execution_count": null,
   "id": "2f8ef91b",
   "metadata": {},
   "outputs": [],
   "source": [
    "income_df"
   ]
  },
  {
   "cell_type": "code",
   "execution_count": null,
   "id": "bd957586",
   "metadata": {},
   "outputs": [],
   "source": [
    "income_df.rename(columns={\"IncomeGroup\":\"income_group\", \"Country Code\":\"country_code\"}, inplace=True)"
   ]
  },
  {
   "cell_type": "code",
   "execution_count": null,
   "id": "6d4dbb38",
   "metadata": {},
   "outputs": [],
   "source": [
    "income_df"
   ]
  },
  {
   "cell_type": "code",
   "execution_count": null,
   "id": "5c2f7072",
   "metadata": {},
   "outputs": [],
   "source": [
    "final_mil_exp_df = pd.merge(countries_mil_exp_df, income_df, on=\"country_code\")\n",
    "final_mil_exp_df"
   ]
  },
  {
   "cell_type": "code",
   "execution_count": null,
   "id": "a2df15c3",
   "metadata": {},
   "outputs": [],
   "source": [
    "#Format percentages to the tenths decimal place.\n",
    "final_mil_exp_df = final_mil_exp_df.round(2)"
   ]
  },
  {
   "cell_type": "code",
   "execution_count": null,
   "id": "66376182",
   "metadata": {},
   "outputs": [],
   "source": [
    "#Check the dataFrames of the percentage columns.\n",
    "final_mil_exp_df.dtypes"
   ]
  },
  {
   "cell_type": "code",
   "execution_count": null,
   "id": "3bcebbc4",
   "metadata": {},
   "outputs": [],
   "source": [
    "#Change the income group to low and high income.\n",
    "final_mil_exp_df[\"income_group\"] = final_mil_exp_df[\"income_group\"].str.replace(\"Upper middle income\", \"High income\", case=False)\n",
    "final_mil_exp_df[\"income_group\"] = final_mil_exp_df[\"income_group\"].str.replace(\"Lower middle income\", \"Low income\", case=False)"
   ]
  },
  {
   "cell_type": "code",
   "execution_count": null,
   "id": "6244838c",
   "metadata": {},
   "outputs": [],
   "source": [
    "final_mil_exp_df"
   ]
  },
  {
   "cell_type": "code",
   "execution_count": null,
   "id": "6f0ead9b",
   "metadata": {},
   "outputs": [],
   "source": [
    "#Export final dataset to a csv file without an index.\n",
    "final_mil_exp_df.to_csv(\"military_expenditure_data.csv\", index=False)"
   ]
  },
  {
   "cell_type": "code",
   "execution_count": null,
   "id": "eeaf238b",
   "metadata": {},
   "outputs": [],
   "source": [
    "#Find the top ten countries in 2019.\n",
    "top_countries = final_mil_exp_df.sort_values(by=\"mil_2019\", ascending=False)\n",
    "top_countries.head(10)"
   ]
  },
  {
   "cell_type": "code",
   "execution_count": null,
   "id": "c45b7330",
   "metadata": {},
   "outputs": [],
   "source": [
    "#Find the bottom ten countries in 2019.\n",
    "bottom_countries = final_mil_exp_df.sort_values(by=\"mil_2019\", ascending=True)\n",
    "bottom_countries.head(12)"
   ]
  },
  {
   "cell_type": "code",
   "execution_count": null,
   "id": "7c447122",
   "metadata": {},
   "outputs": [],
   "source": [
    "#Find the average of each year\n",
    "average_mil_exp = final_mil_exp_df.mean(numeric_only=True).round(2)"
   ]
  },
  {
   "cell_type": "code",
   "execution_count": null,
   "id": "a42453cf",
   "metadata": {},
   "outputs": [],
   "source": [
    "average_mil_exp"
   ]
  },
  {
   "cell_type": "code",
   "execution_count": null,
   "id": "8bf3cb2b",
   "metadata": {},
   "outputs": [],
   "source": [
    "mil_avg_df = pd.DataFrame(average_mil_exp).reset_index()\n",
    "mil_avg_df"
   ]
  },
  {
   "cell_type": "code",
   "execution_count": null,
   "id": "d3864be1",
   "metadata": {},
   "outputs": [],
   "source": [
    "#Export average dataset with year index included.\n",
    "#mil_avg_df.to_csv(\"average_military_exp.csv\", index=True)"
   ]
  },
  {
   "cell_type": "code",
   "execution_count": null,
   "id": "85009d30",
   "metadata": {},
   "outputs": [],
   "source": [
    "mil_avg_df"
   ]
  },
  {
   "cell_type": "code",
   "execution_count": null,
   "id": "b99c30df",
   "metadata": {},
   "outputs": [],
   "source": []
  }
 ],
 "metadata": {
  "kernelspec": {
   "display_name": "Python 3 (ipykernel)",
   "language": "python",
   "name": "python3"
  },
  "language_info": {
   "codemirror_mode": {
    "name": "ipython",
    "version": 3
   },
   "file_extension": ".py",
   "mimetype": "text/x-python",
   "name": "python",
   "nbconvert_exporter": "python",
   "pygments_lexer": "ipython3",
   "version": "3.7.13"
  }
 },
 "nbformat": 4,
 "nbformat_minor": 5
}
