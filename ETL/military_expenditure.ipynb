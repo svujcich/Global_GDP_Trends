{
 "cells": [
  {
   "cell_type": "code",
   "execution_count": null,
   "id": "6e29a40c",
   "metadata": {},
   "outputs": [],
   "source": [
    "#Import Depenencies\n",
    "\n",
    "import pandas as pd"
   ]
  },
  {
   "cell_type": "code",
   "execution_count": null,
   "id": "96014a89",
   "metadata": {},
   "outputs": [],
   "source": [
    "#Creating a path to the .csv file.\n",
    "file_to_mil = \"Resources/military_expenditure.csv\"\n",
    "file_to_codes = \"Resources/country-codes.csv\""
   ]
  },
  {
   "cell_type": "code",
   "execution_count": null,
   "id": "52a813fa",
   "metadata": {},
   "outputs": [],
   "source": [
    "mil_csv = pd.read_csv(file_to_mil)"
   ]
  },
  {
   "cell_type": "code",
   "execution_count": null,
   "id": "569e6ce8",
   "metadata": {},
   "outputs": [],
   "source": [
    "#Creating a DataFrame using Pandas\n",
    "\n",
    "mil_df = pd.DataFrame(mil_csv)\n",
    "mil_df"
   ]
  },
  {
   "cell_type": "code",
   "execution_count": null,
   "id": "5adbae18",
   "metadata": {},
   "outputs": [],
   "source": [
    "#Drop first 3 rows with no data\n",
    "mil_df_clean = mil_df.iloc[3:, :]\n",
    "\n",
    "#Use new first row as headers\n",
    "headers = mil_df_clean.iloc[0]\n",
    "mil_df_clean = mil_df_clean[1:]\n",
    "mil_df_clean.columns = headers\n",
    "\n",
    "mil_df_clean.head(10)"
   ]
  },
  {
   "cell_type": "code",
   "execution_count": null,
   "id": "31b19c12",
   "metadata": {},
   "outputs": [],
   "source": [
    "#Drop the columns we don't need for our analysis.\n",
    "mil_exp_df = mil_df_clean.drop(mil_df_clean.columns[2:45], inplace=False, axis=1)\n",
    "mil_exp_df"
   ]
  },
  {
   "cell_type": "code",
   "execution_count": null,
   "id": "935928a4",
   "metadata": {},
   "outputs": [],
   "source": [
    "mil_exp_df.drop(mil_exp_df.columns[21:23], inplace=True, axis=1)"
   ]
  },
  {
   "cell_type": "code",
   "execution_count": null,
   "id": "428f7ac4",
   "metadata": {
    "scrolled": true
   },
   "outputs": [],
   "source": [
    "#Reformat the column names.\n",
    "mil_exp_df = mil_exp_df.set_axis(['country_name', 'country_code', 'mil_2001', 'mil_2002', 'mil_2003', 'mil_2004', 'mil_2005', 'mil_2006', 'mil_2007', 'mil_2008',\\\n",
    "                                   'mil_2009', 'mil_2010', 'mil_2011', 'mil_2012', 'mil_2013', 'mil_2014', 'mil_2015', 'mil_2016', 'mil_2017', 'mil_2018', 'mil_2019'], axis=1)\n",
    "mil_exp_df"
   ]
  },
  {
   "cell_type": "code",
   "execution_count": null,
   "id": "155e6abb",
   "metadata": {},
   "outputs": [],
   "source": [
    "#Identify any null values in our dataset.\n",
    "mil_exp_df.count()"
   ]
  },
  {
   "cell_type": "code",
   "execution_count": null,
   "id": "8c795746",
   "metadata": {},
   "outputs": [],
   "source": [
    "#Add the country codes csv\n",
    "country_codes_df = pd.read_csv(file_to_codes)\n",
    "country_codes_df"
   ]
  },
  {
   "cell_type": "code",
   "execution_count": null,
   "id": "3ba4b98a",
   "metadata": {},
   "outputs": [],
   "source": [
    "#Drop columns from the country code csv\n",
    "country_codes_df.drop(country_codes_df.columns[3:5], inplace=True, axis=1)"
   ]
  },
  {
   "cell_type": "code",
   "execution_count": null,
   "id": "c74bc027",
   "metadata": {},
   "outputs": [],
   "source": [
    "#Drop the Alpha-2 code.\n",
    "country_codes_df.drop(country_codes_df.columns[1], inplace=True, axis=1)"
   ]
  },
  {
   "cell_type": "code",
   "execution_count": null,
   "id": "38b11589",
   "metadata": {},
   "outputs": [],
   "source": [
    "#Rename the Alpha-3 code\n",
    "country_codes_df = country_codes_df.rename(columns={\"Alpha-3 code\": \"country_code\",\"English short name lower case\":\"Country Name\"})"
   ]
  },
  {
   "cell_type": "code",
   "execution_count": null,
   "id": "057583dd",
   "metadata": {},
   "outputs": [],
   "source": [
    "country_codes_df"
   ]
  },
  {
   "cell_type": "code",
   "execution_count": null,
   "id": "ae03a7a6",
   "metadata": {},
   "outputs": [],
   "source": [
    "countries_mil_exp_df = pd.merge(mil_exp_df, country_codes_df, on= \"country_code\", suffixes=[\"\",\"_codes\"])\n",
    "countries_mil_exp_df"
   ]
  },
  {
   "cell_type": "code",
   "execution_count": null,
   "id": "238895f1",
   "metadata": {},
   "outputs": [],
   "source": [
    "#Removing any null values.\n",
    "countries_mil_exp_df.dropna(inplace=True)"
   ]
  },
  {
   "cell_type": "code",
   "execution_count": null,
   "id": "1b5a3287",
   "metadata": {},
   "outputs": [],
   "source": [
    "#Remove Country Name_codes column.\n",
    "countries_mil_exp_df.drop(columns=\"Country Name\", inplace=True)"
   ]
  },
  {
   "cell_type": "code",
   "execution_count": null,
   "id": "7e220703",
   "metadata": {},
   "outputs": [],
   "source": [
    "countries_mil_exp_df"
   ]
  },
  {
   "cell_type": "code",
   "execution_count": null,
   "id": "2bb20ad8",
   "metadata": {},
   "outputs": [],
   "source": [
    "#Import the countries income level to merge with the rest of our dataset.\n",
    "file_income = pd.read_csv(\"Resources/countries_region_income.csv\")"
   ]
  },
  {
   "cell_type": "code",
   "execution_count": null,
   "id": "77fca1ff",
   "metadata": {},
   "outputs": [],
   "source": [
    "#Create a Dataframe for the countries income csv.\n",
    "income_df = pd.DataFrame(file_income)\n",
    "income_df"
   ]
  },
  {
   "cell_type": "code",
   "execution_count": null,
   "id": "717bff19",
   "metadata": {},
   "outputs": [],
   "source": [
    "#Drop columns we don't need.\n",
    "income_df.drop([\"SpecialNotes\", \"Region\", \"TableName\"], axis=1, inplace=True)"
   ]
  },
  {
   "cell_type": "code",
   "execution_count": null,
   "id": "2f8ef91b",
   "metadata": {},
   "outputs": [],
   "source": [
    "income_df"
   ]
  },
  {
   "cell_type": "code",
   "execution_count": null,
   "id": "bd957586",
   "metadata": {},
   "outputs": [],
   "source": [
    "income_df.rename(columns={\"IncomeGroup\":\"income_group\", \"Country Code\":\"country_code\"}, inplace=True)"
   ]
  },
  {
   "cell_type": "code",
   "execution_count": null,
   "id": "6d4dbb38",
   "metadata": {},
   "outputs": [],
   "source": [
    "income_df"
   ]
  },
  {
   "cell_type": "code",
   "execution_count": null,
   "id": "5c2f7072",
   "metadata": {},
   "outputs": [],
   "source": [
    "final_mil_exp_df = pd.merge(countries_mil_exp_df, income_df, on=\"country_code\")\n",
    "final_mil_exp_df"
   ]
  },
  {
   "cell_type": "code",
   "execution_count": null,
   "id": "a2df15c3",
   "metadata": {},
   "outputs": [],
   "source": [
    "#Format percentages to the tenths decimal place.\n",
    "final_mil_exp_df = final_mil_exp_df.round(2)"
   ]
  },
  {
   "cell_type": "code",
   "execution_count": null,
   "id": "66376182",
   "metadata": {},
   "outputs": [],
   "source": [
    "#Check the dataFrames of the percentage columns.\n",
    "final_mil_exp_df.dtypes"
   ]
  },
  {
   "cell_type": "code",
   "execution_count": null,
   "id": "3bcebbc4",
   "metadata": {},
   "outputs": [],
   "source": [
    "#Change the income group to low and high income.\n",
    "final_mil_exp_df[\"income_group\"] = final_mil_exp_df[\"income_group\"].str.replace(\"Upper middle income\", \"High income\", case=False)\n",
    "final_mil_exp_df[\"income_group\"] = final_mil_exp_df[\"income_group\"].str.replace(\"Lower middle income\", \"Low income\", case=False)"
   ]
  },
  {
   "cell_type": "code",
   "execution_count": null,
   "id": "6244838c",
   "metadata": {},
   "outputs": [],
   "source": [
    "final_mil_exp_df"
   ]
  },
  {
   "cell_type": "code",
   "execution_count": null,
   "id": "6f0ead9b",
   "metadata": {},
   "outputs": [],
   "source": [
    "#Export final dataset to a csv file without an index.\n",
    "final_mil_exp_df.to_csv(\"military_expenditure_data.csv\", index=False)"
   ]
  },
  {
   "cell_type": "code",
   "execution_count": null,
   "id": "eeaf238b",
   "metadata": {},
   "outputs": [],
   "source": [
    "#Find the top ten countries in 2019.\n",
    "top_countries = final_mil_exp_df.sort_values(by=\"mil_2019\", ascending=False)\n",
    "top_countries.head(10)"
   ]
  },
  {
   "cell_type": "code",
   "execution_count": null,
   "id": "c45b7330",
   "metadata": {},
   "outputs": [],
   "source": [
    "#Find the bottom ten countries in 2019.\n",
    "bottom_countries = final_mil_exp_df.sort_values(by=\"mil_2019\", ascending=True)\n",
    "bottom_countries.head(12)"
   ]
  },
  {
   "cell_type": "code",
   "execution_count": null,
   "id": "7c447122",
   "metadata": {},
   "outputs": [],
   "source": [
    "#Find the average of each year\n",
    "average_mil_exp = final_mil_exp_df.mean(numeric_only=True).round(2)"
   ]
  },
  {
   "cell_type": "code",
   "execution_count": null,
   "id": "a42453cf",
   "metadata": {},
   "outputs": [],
   "source": [
    "average_mil_exp"
   ]
  },
  {
   "cell_type": "code",
   "execution_count": null,
   "id": "8bf3cb2b",
   "metadata": {},
   "outputs": [],
   "source": [
    "mil_avg_df = pd.DataFrame(average_mil_exp).reset_index()\n",
    "mil_avg_df"
   ]
  },
  {
   "cell_type": "code",
   "execution_count": null,
   "id": "d3864be1",
   "metadata": {},
   "outputs": [],
   "source": [
    "#Export average dataset with year index included.\n",
    "#mil_avg_df.to_csv(\"average_military_exp.csv\", index=True)"
   ]
  },
  {
   "cell_type": "code",
   "execution_count": null,
   "id": "85009d30",
   "metadata": {},
   "outputs": [],
   "source": [
    "mil_avg_df"
   ]
  },
  {
   "cell_type": "code",
   "execution_count": null,
   "id": "b99c30df",
   "metadata": {},
   "outputs": [],
   "source": []
  }
 ],
 "metadata": {
  "kernelspec": {
   "display_name": "Python 3 (ipykernel)",
   "language": "python",
   "name": "python3"
  },
  "language_info": {
   "codemirror_mode": {
    "name": "ipython",
    "version": 3
   },
   "file_extension": ".py",
   "mimetype": "text/x-python",
   "name": "python",
   "nbconvert_exporter": "python",
   "pygments_lexer": "ipython3",
   "version": "3.7.13"
  }
 },
 "nbformat": 4,
 "nbformat_minor": 5
}
