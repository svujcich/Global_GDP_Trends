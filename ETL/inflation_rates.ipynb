{
 "cells": [
  {
   "cell_type": "code",
   "execution_count": null,
   "id": "0064f6be",
   "metadata": {},
   "outputs": [],
   "source": [
    "#Import Depenencies\n",
    "\n",
    "import pandas as pd"
   ]
  },
  {
   "cell_type": "code",
   "execution_count": null,
   "id": "50eb223f",
   "metadata": {},
   "outputs": [],
   "source": [
    "#Creating a path to the .csv file.\n",
    "file_to_inflation = \"Resources/inflation_rates.csv\"\n",
    "file_to_codes = \"Resources/country-codes.csv\""
   ]
  },
  {
   "cell_type": "code",
   "execution_count": null,
   "id": "319283d4",
   "metadata": {},
   "outputs": [],
   "source": [
    "inflation_rates_csv = pd.read_csv(file_to_inflation)"
   ]
  },
  {
   "cell_type": "code",
   "execution_count": null,
   "id": "cb0820ca",
   "metadata": {},
   "outputs": [],
   "source": [
    "#Use Pandas to create an inflation rates dataframe.\n",
    "inflation_rates_df = pd.DataFrame(inflation_rates_csv)\n",
    "inflation_rates_df"
   ]
  },
  {
   "cell_type": "code",
   "execution_count": null,
   "id": "2a8e1cc0",
   "metadata": {},
   "outputs": [],
   "source": [
    "#Drop first 3 rows with no data\n",
    "inflation_rates_df_clean = inflation_rates_df.iloc[3:, :]\n",
    "\n",
    "#Use new first row as headers\n",
    "headers = inflation_rates_df_clean.iloc[0]\n",
    "inflation_rates_df_clean = inflation_rates_df_clean[1:]\n",
    "inflation_rates_df_clean.columns = headers\n",
    "\n",
    "inflation_rates_df_clean.head(10)"
   ]
  },
  {
   "cell_type": "code",
   "execution_count": null,
   "id": "890eeeca",
   "metadata": {},
   "outputs": [],
   "source": [
    "#Drop the columns we don't need for our analysis.\n",
    "inflation_rates_df = inflation_rates_df_clean.drop(inflation_rates_df_clean.columns[2:45], inplace=False, axis=1)\n",
    "inflation_rates_df"
   ]
  },
  {
   "cell_type": "code",
   "execution_count": null,
   "id": "c2695615",
   "metadata": {},
   "outputs": [],
   "source": [
    "inflation_rates_df.drop(inflation_rates_df.columns[21:23], inplace=True, axis=1)"
   ]
  },
  {
   "cell_type": "code",
   "execution_count": null,
   "id": "75ee3a51",
   "metadata": {},
   "outputs": [],
   "source": [
    "inflation_rates_df"
   ]
  },
  {
   "cell_type": "code",
   "execution_count": null,
   "id": "f30e8bc1",
   "metadata": {},
   "outputs": [],
   "source": [
    "#Reformat the column names.\n",
    "inflation_rates_df = inflation_rates_df.set_axis(['country_name', 'country_code', 'inf_2001', 'inf_2002', 'inf_2003', 'inf_2004', 'inf_2005', 'inf_2006', 'inf_2007', 'inf_2008',\\\n",
    "                                   'inf_2009', 'inf_2010', 'inf_2011', 'inf_2012', 'inf_2013', 'inf_2014', 'inf_2015', 'inf_2016', 'inf_2017', 'inf_2018', 'inf_2019'], axis=1)\n",
    "inflation_rates_df"
   ]
  },
  {
   "cell_type": "code",
   "execution_count": null,
   "id": "4e64bf66",
   "metadata": {},
   "outputs": [],
   "source": [
    "#Identify any null values in our dataset.\n",
    "inflation_rates_df.count()"
   ]
  },
  {
   "cell_type": "code",
   "execution_count": null,
   "id": "2371f9db",
   "metadata": {},
   "outputs": [],
   "source": [
    "#Drop the null values in our dataset.\n",
    "inflation_rates_df.dropna(inplace=True)"
   ]
  },
  {
   "cell_type": "code",
   "execution_count": null,
   "id": "6cdaed2a",
   "metadata": {},
   "outputs": [],
   "source": [
    "inflation_rates_df"
   ]
  },
  {
   "cell_type": "code",
   "execution_count": null,
   "id": "2f86ead3",
   "metadata": {},
   "outputs": [],
   "source": [
    "#Add the country codes csv\n",
    "country_codes_df = pd.read_csv(file_to_codes)\n",
    "country_codes_df"
   ]
  },
  {
   "cell_type": "code",
   "execution_count": null,
   "id": "e98213b3",
   "metadata": {},
   "outputs": [],
   "source": [
    "#Drop columns from the country code csv\n",
    "country_codes_df.drop(country_codes_df.columns[3:5], inplace=True, axis=1)"
   ]
  },
  {
   "cell_type": "code",
   "execution_count": null,
   "id": "7d689c25",
   "metadata": {},
   "outputs": [],
   "source": [
    "#Drop the Alpha-2 code.\n",
    "country_codes_df.drop(country_codes_df.columns[1], inplace=True, axis=1)"
   ]
  },
  {
   "cell_type": "code",
   "execution_count": null,
   "id": "9db011b7",
   "metadata": {},
   "outputs": [],
   "source": [
    "#Rename the Alpha-3 code and Country Name columns\n",
    "country_codes_df = country_codes_df.rename(columns={\"Alpha-3 code\": \"country_code\",\"English short name lower case\":\"country_name\"})"
   ]
  },
  {
   "cell_type": "code",
   "execution_count": null,
   "id": "2b4cf6d7",
   "metadata": {},
   "outputs": [],
   "source": [
    "country_codes_df"
   ]
  },
  {
   "cell_type": "code",
   "execution_count": null,
   "id": "3ac3bbf4",
   "metadata": {},
   "outputs": [],
   "source": [
    "countries_inflation_df = pd.merge(inflation_rates_df, country_codes_df, on= \"country_code\", suffixes=[\"\",\"_codes\"])\n",
    "countries_inflation_df"
   ]
  },
  {
   "cell_type": "code",
   "execution_count": null,
   "id": "b6a44a46",
   "metadata": {},
   "outputs": [],
   "source": [
    "countries_inflation_df.count()"
   ]
  },
  {
   "cell_type": "code",
   "execution_count": null,
   "id": "355d852f",
   "metadata": {},
   "outputs": [],
   "source": [
    "#Remove country codes_names column\n",
    "countries_inflation_df.drop(columns=\"country_name_codes\", inplace=True)"
   ]
  },
  {
   "cell_type": "code",
   "execution_count": null,
   "id": "2de903f3",
   "metadata": {},
   "outputs": [],
   "source": [
    "countries_inflation_df"
   ]
  },
  {
   "cell_type": "code",
   "execution_count": null,
   "id": "b872d303",
   "metadata": {},
   "outputs": [],
   "source": [
    "#Import the countries income level to merge with the rest of our dataset.\n",
    "file_income = pd.read_csv(\"Resources/countries_region_income.csv\")"
   ]
  },
  {
   "cell_type": "code",
   "execution_count": null,
   "id": "c4a9bf24",
   "metadata": {},
   "outputs": [],
   "source": [
    "#Create a Dataframe for the countries income csv.\n",
    "income_df = pd.DataFrame(file_income)\n",
    "income_df"
   ]
  },
  {
   "cell_type": "code",
   "execution_count": null,
   "id": "68924f04",
   "metadata": {},
   "outputs": [],
   "source": [
    "#Drop columns we don't need.\n",
    "income_df.drop([\"SpecialNotes\", \"Region\", \"TableName\"], axis=1, inplace=True)"
   ]
  },
  {
   "cell_type": "code",
   "execution_count": null,
   "id": "0202b4a3",
   "metadata": {},
   "outputs": [],
   "source": [
    "income_df"
   ]
  },
  {
   "cell_type": "code",
   "execution_count": null,
   "id": "66a742c7",
   "metadata": {},
   "outputs": [],
   "source": [
    "income_df = income_df.rename(columns={\"Country Code\":\"country_code\", \"IncomeGroup\":\"income_group\"})\n",
    "income_df"
   ]
  },
  {
   "cell_type": "code",
   "execution_count": null,
   "id": "08201285",
   "metadata": {},
   "outputs": [],
   "source": [
    "final_inflation_df = pd.merge(countries_inflation_df, income_df, on=\"country_code\")\n",
    "final_inflation_df"
   ]
  },
  {
   "cell_type": "code",
   "execution_count": null,
   "id": "f65ee620",
   "metadata": {},
   "outputs": [],
   "source": [
    "#Check for any null values.\n",
    "final_inflation_df.count()"
   ]
  },
  {
   "cell_type": "code",
   "execution_count": null,
   "id": "8a53fa0f",
   "metadata": {},
   "outputs": [],
   "source": [
    "#Format the percentages to the nearest tenths place.\n",
    "final_inflation_df = final_inflation_df.round(2)"
   ]
  },
  {
   "cell_type": "code",
   "execution_count": null,
   "id": "508703bd",
   "metadata": {},
   "outputs": [],
   "source": [
    "#Change the income group to low and high income.\n",
    "final_inflation_df[\"income_group\"] = final_inflation_df[\"income_group\"].str.replace(\"Upper middle income\", \"High income\", case=False)"
   ]
  },
  {
   "cell_type": "code",
   "execution_count": null,
   "id": "8b44b1b4",
   "metadata": {},
   "outputs": [],
   "source": [
    "final_inflation_df[\"income_group\"] = final_inflation_df[\"income_group\"].str.replace(\"Lower middle income\", \"Low income\", case=False)"
   ]
  },
  {
   "cell_type": "code",
   "execution_count": null,
   "id": "49d775e4",
   "metadata": {},
   "outputs": [],
   "source": [
    "final_inflation_df"
   ]
  },
  {
   "cell_type": "code",
   "execution_count": null,
   "id": "37645dbe",
   "metadata": {},
   "outputs": [],
   "source": [
    "#Check the data types.\n",
    "final_inflation_df.dtypes"
   ]
  },
  {
   "cell_type": "code",
   "execution_count": null,
   "id": "98c4ded7",
   "metadata": {},
   "outputs": [],
   "source": [
    "#Export final dataset to a csv file without an index.\n",
    "final_inflation_df.to_csv(\"inflation_rates_data.csv\", index=False)"
   ]
  },
  {
   "cell_type": "code",
   "execution_count": null,
   "id": "2f887db3",
   "metadata": {},
   "outputs": [],
   "source": [
    "#Find the top ten countries in 2019.\n",
    "top_countries = final_inflation_df.sort_values(by=\"inf_2019\", ascending=False)\n",
    "top_countries.head(10)"
   ]
  },
  {
   "cell_type": "code",
   "execution_count": null,
   "id": "3ec4f353",
   "metadata": {},
   "outputs": [],
   "source": [
    "#Find the bottom ten countries in 2019.\n",
    "bottom_countries = final_inflation_df.sort_values(by=\"inf_2019\", ascending=True)\n",
    "bottom_countries.head(10)"
   ]
  },
  {
   "cell_type": "code",
   "execution_count": null,
   "id": "90b9157b",
   "metadata": {},
   "outputs": [],
   "source": [
    "#Find the average inflation rate for each year.\n",
    "average_inflation = final_inflation_df.mean(axis=0, numeric_only=True).round(2)"
   ]
  },
  {
   "cell_type": "code",
   "execution_count": null,
   "id": "92f5fb30",
   "metadata": {},
   "outputs": [],
   "source": [
    "average_inflation"
   ]
  },
  {
   "cell_type": "code",
   "execution_count": null,
   "id": "9a85d3e7",
   "metadata": {},
   "outputs": [],
   "source": [
    "average_inflation_df = pd.DataFrame(average_inflation)"
   ]
  },
  {
   "cell_type": "code",
   "execution_count": null,
   "id": "ea729498",
   "metadata": {},
   "outputs": [],
   "source": [
    "average_inflation_df"
   ]
  },
  {
   "cell_type": "code",
   "execution_count": null,
   "id": "e562da19",
   "metadata": {},
   "outputs": [],
   "source": [
    "#Export average dataset to a csv file with an index.\n",
    "average_inflation_df.to_csv(\"average_inflation.csv\", index=True)"
   ]
  }
 ],
 "metadata": {
  "kernelspec": {
   "display_name": "Python 3 (ipykernel)",
   "language": "python",
   "name": "python3"
  },
  "language_info": {
   "codemirror_mode": {
    "name": "ipython",
    "version": 3
   },
   "file_extension": ".py",
   "mimetype": "text/x-python",
   "name": "python",
   "nbconvert_exporter": "python",
   "pygments_lexer": "ipython3",
   "version": "3.7.13"
  }
 },
 "nbformat": 4,
 "nbformat_minor": 5
}
