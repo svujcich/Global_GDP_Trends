{
 "cells": [
  {
   "cell_type": "code",
   "execution_count": 1,
   "id": "016123a2",
   "metadata": {},
   "outputs": [],
   "source": [
    "#initial Imports\n",
    "import pandas as pd\n",
    "from pathlib import Path\n",
    "from collections import Counter\n",
    "from sklearn.preprocessing import LabelEncoder\n",
    "import matplotlib.pyplot as plt\n",
    "from matplotlib.pyplot import figure\n",
    "import numpy as np\n",
    "%matplotlib inline\n",
    "\n",
    "\n",
    "#algorithm imports\n",
    "from imblearn.ensemble import BalancedRandomForestClassifier\n",
    "from sklearn.ensemble import RandomForestClassifier\n",
    "from imblearn.over_sampling import RandomOverSampler\n",
    "from sklearn.linear_model import LogisticRegression\n",
    "from imblearn.under_sampling import ClusterCentroids\n",
    "\n",
    "\n",
    "import warnings\n",
    "warnings.filterwarnings('ignore')"
   ]
  },
  {
   "cell_type": "code",
   "execution_count": 2,
   "id": "6da8e14a",
   "metadata": {},
   "outputs": [],
   "source": [
    "le = LabelEncoder()"
   ]
  },
  {
   "cell_type": "code",
   "execution_count": 3,
   "id": "59fde0fe",
   "metadata": {},
   "outputs": [],
   "source": [
    "from sklearn.metrics import balanced_accuracy_score\n",
    "from sklearn.metrics import confusion_matrix\n",
    "from imblearn.metrics import classification_report_imbalanced\n",
    "from sklearn.preprocessing import StandardScaler\n",
    "from sklearn.metrics import confusion_matrix, accuracy_score, classification_report\n",
    "from imblearn.ensemble import BalancedRandomForestClassifier, EasyEnsembleClassifier"
   ]
  },
  {
   "cell_type": "markdown",
   "id": "07c42396",
   "metadata": {},
   "source": [
    "## Read in Data and preform basic cleaning \n"
   ]
  },
  {
   "cell_type": "code",
   "execution_count": 4,
   "id": "a7b4c68e",
   "metadata": {},
   "outputs": [],
   "source": [
    "file_path = Path(\"Resources/world_2019_data.csv\")"
   ]
  },
  {
   "cell_type": "code",
   "execution_count": 5,
   "id": "8792fe2d",
   "metadata": {},
   "outputs": [
    {
     "data": {
      "text/html": [
       "<div>\n",
       "<style scoped>\n",
       "    .dataframe tbody tr th:only-of-type {\n",
       "        vertical-align: middle;\n",
       "    }\n",
       "\n",
       "    .dataframe tbody tr th {\n",
       "        vertical-align: top;\n",
       "    }\n",
       "\n",
       "    .dataframe thead th {\n",
       "        text-align: right;\n",
       "    }\n",
       "</style>\n",
       "<table border=\"1\" class=\"dataframe\">\n",
       "  <thead>\n",
       "    <tr style=\"text-align: right;\">\n",
       "      <th></th>\n",
       "      <th>country_name</th>\n",
       "      <th>country_code</th>\n",
       "      <th>h_2019</th>\n",
       "      <th>edu_2019</th>\n",
       "      <th>e_2019</th>\n",
       "      <th>con_2019</th>\n",
       "      <th>inf_2019</th>\n",
       "      <th>une_2019</th>\n",
       "      <th>p_2019</th>\n",
       "      <th>g_2019</th>\n",
       "      <th>income_group</th>\n",
       "    </tr>\n",
       "  </thead>\n",
       "  <tbody>\n",
       "    <tr>\n",
       "      <th>0</th>\n",
       "      <td>Angola</td>\n",
       "      <td>AGO</td>\n",
       "      <td>2.53</td>\n",
       "      <td>2.923862e+09</td>\n",
       "      <td>2.827171e+10</td>\n",
       "      <td>4.057062e+10</td>\n",
       "      <td>17.08</td>\n",
       "      <td>7.42</td>\n",
       "      <td>31825299</td>\n",
       "      <td>-0.70</td>\n",
       "      <td>Low income</td>\n",
       "    </tr>\n",
       "    <tr>\n",
       "      <th>1</th>\n",
       "      <td>Armenia</td>\n",
       "      <td>ARM</td>\n",
       "      <td>11.34</td>\n",
       "      <td>3.161166e+08</td>\n",
       "      <td>5.631686e+09</td>\n",
       "      <td>1.307507e+10</td>\n",
       "      <td>1.44</td>\n",
       "      <td>18.30</td>\n",
       "      <td>2957728</td>\n",
       "      <td>7.60</td>\n",
       "      <td>High income</td>\n",
       "    </tr>\n",
       "    <tr>\n",
       "      <th>2</th>\n",
       "      <td>Australia</td>\n",
       "      <td>AUS</td>\n",
       "      <td>9.91</td>\n",
       "      <td>6.777152e+10</td>\n",
       "      <td>3.364310e+11</td>\n",
       "      <td>1.033080e+12</td>\n",
       "      <td>1.61</td>\n",
       "      <td>5.16</td>\n",
       "      <td>25365745</td>\n",
       "      <td>2.11</td>\n",
       "      <td>High income</td>\n",
       "    </tr>\n",
       "    <tr>\n",
       "      <th>3</th>\n",
       "      <td>Austria</td>\n",
       "      <td>AUT</td>\n",
       "      <td>10.43</td>\n",
       "      <td>2.241872e+10</td>\n",
       "      <td>2.467240e+11</td>\n",
       "      <td>3.160610e+11</td>\n",
       "      <td>1.53</td>\n",
       "      <td>4.49</td>\n",
       "      <td>8879920</td>\n",
       "      <td>1.49</td>\n",
       "      <td>High income</td>\n",
       "    </tr>\n",
       "    <tr>\n",
       "      <th>4</th>\n",
       "      <td>Azerbaijan</td>\n",
       "      <td>AZE</td>\n",
       "      <td>4.04</td>\n",
       "      <td>1.178561e+09</td>\n",
       "      <td>2.362976e+10</td>\n",
       "      <td>3.306206e+10</td>\n",
       "      <td>2.61</td>\n",
       "      <td>4.85</td>\n",
       "      <td>10024283</td>\n",
       "      <td>2.50</td>\n",
       "      <td>High income</td>\n",
       "    </tr>\n",
       "    <tr>\n",
       "      <th>...</th>\n",
       "      <td>...</td>\n",
       "      <td>...</td>\n",
       "      <td>...</td>\n",
       "      <td>...</td>\n",
       "      <td>...</td>\n",
       "      <td>...</td>\n",
       "      <td>...</td>\n",
       "      <td>...</td>\n",
       "      <td>...</td>\n",
       "      <td>...</td>\n",
       "      <td>...</td>\n",
       "    </tr>\n",
       "    <tr>\n",
       "      <th>123</th>\n",
       "      <td>Ukraine</td>\n",
       "      <td>UKR</td>\n",
       "      <td>7.10</td>\n",
       "      <td>7.662706e+09</td>\n",
       "      <td>6.344856e+10</td>\n",
       "      <td>1.433540e+11</td>\n",
       "      <td>7.89</td>\n",
       "      <td>8.19</td>\n",
       "      <td>44386203</td>\n",
       "      <td>3.20</td>\n",
       "      <td>Low income</td>\n",
       "    </tr>\n",
       "    <tr>\n",
       "      <th>124</th>\n",
       "      <td>Uruguay</td>\n",
       "      <td>URY</td>\n",
       "      <td>9.35</td>\n",
       "      <td>2.774959e+09</td>\n",
       "      <td>1.699176e+10</td>\n",
       "      <td>4.865871e+10</td>\n",
       "      <td>7.88</td>\n",
       "      <td>8.88</td>\n",
       "      <td>3461731</td>\n",
       "      <td>0.35</td>\n",
       "      <td>High income</td>\n",
       "    </tr>\n",
       "    <tr>\n",
       "      <th>125</th>\n",
       "      <td>United States</td>\n",
       "      <td>USA</td>\n",
       "      <td>16.77</td>\n",
       "      <td>9.540000e+11</td>\n",
       "      <td>2.519730e+12</td>\n",
       "      <td>1.740260e+13</td>\n",
       "      <td>1.81</td>\n",
       "      <td>3.67</td>\n",
       "      <td>328329953</td>\n",
       "      <td>2.29</td>\n",
       "      <td>High income</td>\n",
       "    </tr>\n",
       "    <tr>\n",
       "      <th>126</th>\n",
       "      <td>Vanuatu</td>\n",
       "      <td>VUT</td>\n",
       "      <td>3.36</td>\n",
       "      <td>4.506711e+07</td>\n",
       "      <td>4.714967e+08</td>\n",
       "      <td>7.126577e+08</td>\n",
       "      <td>2.76</td>\n",
       "      <td>1.80</td>\n",
       "      <td>299882</td>\n",
       "      <td>3.24</td>\n",
       "      <td>Low income</td>\n",
       "    </tr>\n",
       "    <tr>\n",
       "      <th>127</th>\n",
       "      <td>South Africa</td>\n",
       "      <td>ZAF</td>\n",
       "      <td>9.11</td>\n",
       "      <td>2.199966e+10</td>\n",
       "      <td>1.060700e+11</td>\n",
       "      <td>3.236180e+11</td>\n",
       "      <td>4.12</td>\n",
       "      <td>28.47</td>\n",
       "      <td>58558267</td>\n",
       "      <td>0.11</td>\n",
       "      <td>High income</td>\n",
       "    </tr>\n",
       "  </tbody>\n",
       "</table>\n",
       "<p>128 rows × 11 columns</p>\n",
       "</div>"
      ],
      "text/plain": [
       "      country_name country_code  h_2019      edu_2019        e_2019  \\\n",
       "0           Angola          AGO    2.53  2.923862e+09  2.827171e+10   \n",
       "1          Armenia          ARM   11.34  3.161166e+08  5.631686e+09   \n",
       "2        Australia          AUS    9.91  6.777152e+10  3.364310e+11   \n",
       "3          Austria          AUT   10.43  2.241872e+10  2.467240e+11   \n",
       "4       Azerbaijan          AZE    4.04  1.178561e+09  2.362976e+10   \n",
       "..             ...          ...     ...           ...           ...   \n",
       "123        Ukraine          UKR    7.10  7.662706e+09  6.344856e+10   \n",
       "124        Uruguay          URY    9.35  2.774959e+09  1.699176e+10   \n",
       "125  United States          USA   16.77  9.540000e+11  2.519730e+12   \n",
       "126        Vanuatu          VUT    3.36  4.506711e+07  4.714967e+08   \n",
       "127   South Africa          ZAF    9.11  2.199966e+10  1.060700e+11   \n",
       "\n",
       "         con_2019  inf_2019  une_2019     p_2019  g_2019 income_group  \n",
       "0    4.057062e+10     17.08      7.42   31825299   -0.70   Low income  \n",
       "1    1.307507e+10      1.44     18.30    2957728    7.60  High income  \n",
       "2    1.033080e+12      1.61      5.16   25365745    2.11  High income  \n",
       "3    3.160610e+11      1.53      4.49    8879920    1.49  High income  \n",
       "4    3.306206e+10      2.61      4.85   10024283    2.50  High income  \n",
       "..            ...       ...       ...        ...     ...          ...  \n",
       "123  1.433540e+11      7.89      8.19   44386203    3.20   Low income  \n",
       "124  4.865871e+10      7.88      8.88    3461731    0.35  High income  \n",
       "125  1.740260e+13      1.81      3.67  328329953    2.29  High income  \n",
       "126  7.126577e+08      2.76      1.80     299882    3.24   Low income  \n",
       "127  3.236180e+11      4.12     28.47   58558267    0.11  High income  \n",
       "\n",
       "[128 rows x 11 columns]"
      ]
     },
     "execution_count": 5,
     "metadata": {},
     "output_type": "execute_result"
    }
   ],
   "source": [
    "df = pd.read_csv(file_path)\n",
    "df"
   ]
  },
  {
   "cell_type": "code",
   "execution_count": 6,
   "id": "897c0552",
   "metadata": {},
   "outputs": [],
   "source": [
    "# #drop string columns\n",
    "# df = df.drop(columns=[\"country_name\", \"country_code\"])\n",
    "# df"
   ]
  },
  {
   "cell_type": "code",
   "execution_count": 7,
   "id": "3961affb",
   "metadata": {},
   "outputs": [
    {
     "data": {
      "text/plain": [
       "country_name     object\n",
       "country_code     object\n",
       "h_2019          float64\n",
       "edu_2019        float64\n",
       "e_2019          float64\n",
       "con_2019        float64\n",
       "inf_2019        float64\n",
       "une_2019        float64\n",
       "p_2019            int64\n",
       "g_2019          float64\n",
       "income_group     object\n",
       "dtype: object"
      ]
     },
     "execution_count": 7,
     "metadata": {},
     "output_type": "execute_result"
    }
   ],
   "source": [
    "#check data types\n",
    "df.dtypes"
   ]
  },
  {
   "cell_type": "code",
   "execution_count": 8,
   "id": "1034461a",
   "metadata": {},
   "outputs": [],
   "source": [
    "#encode y column\n",
    "df['income_group'] = le.fit_transform(df['income_group'])\n",
    "df = df.drop(columns=[\"country_name\", \"country_code\"])"
   ]
  },
  {
   "cell_type": "code",
   "execution_count": 9,
   "id": "c4300ca3",
   "metadata": {},
   "outputs": [
    {
     "data": {
      "text/html": [
       "<div>\n",
       "<style scoped>\n",
       "    .dataframe tbody tr th:only-of-type {\n",
       "        vertical-align: middle;\n",
       "    }\n",
       "\n",
       "    .dataframe tbody tr th {\n",
       "        vertical-align: top;\n",
       "    }\n",
       "\n",
       "    .dataframe thead th {\n",
       "        text-align: right;\n",
       "    }\n",
       "</style>\n",
       "<table border=\"1\" class=\"dataframe\">\n",
       "  <thead>\n",
       "    <tr style=\"text-align: right;\">\n",
       "      <th></th>\n",
       "      <th>Healthcare Expenditures</th>\n",
       "      <th>Education Expenditures</th>\n",
       "      <th>Exports</th>\n",
       "      <th>Consumption</th>\n",
       "      <th>Inflation Rate</th>\n",
       "      <th>Unemployment</th>\n",
       "      <th>Population</th>\n",
       "      <th>GDP Growth</th>\n",
       "      <th>income_group</th>\n",
       "    </tr>\n",
       "  </thead>\n",
       "  <tbody>\n",
       "    <tr>\n",
       "      <th>0</th>\n",
       "      <td>2.53</td>\n",
       "      <td>2.923862e+09</td>\n",
       "      <td>2.827171e+10</td>\n",
       "      <td>4.057062e+10</td>\n",
       "      <td>17.08</td>\n",
       "      <td>7.42</td>\n",
       "      <td>31825299</td>\n",
       "      <td>-0.70</td>\n",
       "      <td>1</td>\n",
       "    </tr>\n",
       "    <tr>\n",
       "      <th>1</th>\n",
       "      <td>11.34</td>\n",
       "      <td>3.161166e+08</td>\n",
       "      <td>5.631686e+09</td>\n",
       "      <td>1.307507e+10</td>\n",
       "      <td>1.44</td>\n",
       "      <td>18.30</td>\n",
       "      <td>2957728</td>\n",
       "      <td>7.60</td>\n",
       "      <td>0</td>\n",
       "    </tr>\n",
       "    <tr>\n",
       "      <th>2</th>\n",
       "      <td>9.91</td>\n",
       "      <td>6.777152e+10</td>\n",
       "      <td>3.364310e+11</td>\n",
       "      <td>1.033080e+12</td>\n",
       "      <td>1.61</td>\n",
       "      <td>5.16</td>\n",
       "      <td>25365745</td>\n",
       "      <td>2.11</td>\n",
       "      <td>0</td>\n",
       "    </tr>\n",
       "    <tr>\n",
       "      <th>3</th>\n",
       "      <td>10.43</td>\n",
       "      <td>2.241872e+10</td>\n",
       "      <td>2.467240e+11</td>\n",
       "      <td>3.160610e+11</td>\n",
       "      <td>1.53</td>\n",
       "      <td>4.49</td>\n",
       "      <td>8879920</td>\n",
       "      <td>1.49</td>\n",
       "      <td>0</td>\n",
       "    </tr>\n",
       "    <tr>\n",
       "      <th>4</th>\n",
       "      <td>4.04</td>\n",
       "      <td>1.178561e+09</td>\n",
       "      <td>2.362976e+10</td>\n",
       "      <td>3.306206e+10</td>\n",
       "      <td>2.61</td>\n",
       "      <td>4.85</td>\n",
       "      <td>10024283</td>\n",
       "      <td>2.50</td>\n",
       "      <td>0</td>\n",
       "    </tr>\n",
       "    <tr>\n",
       "      <th>...</th>\n",
       "      <td>...</td>\n",
       "      <td>...</td>\n",
       "      <td>...</td>\n",
       "      <td>...</td>\n",
       "      <td>...</td>\n",
       "      <td>...</td>\n",
       "      <td>...</td>\n",
       "      <td>...</td>\n",
       "      <td>...</td>\n",
       "    </tr>\n",
       "    <tr>\n",
       "      <th>123</th>\n",
       "      <td>7.10</td>\n",
       "      <td>7.662706e+09</td>\n",
       "      <td>6.344856e+10</td>\n",
       "      <td>1.433540e+11</td>\n",
       "      <td>7.89</td>\n",
       "      <td>8.19</td>\n",
       "      <td>44386203</td>\n",
       "      <td>3.20</td>\n",
       "      <td>1</td>\n",
       "    </tr>\n",
       "    <tr>\n",
       "      <th>124</th>\n",
       "      <td>9.35</td>\n",
       "      <td>2.774959e+09</td>\n",
       "      <td>1.699176e+10</td>\n",
       "      <td>4.865871e+10</td>\n",
       "      <td>7.88</td>\n",
       "      <td>8.88</td>\n",
       "      <td>3461731</td>\n",
       "      <td>0.35</td>\n",
       "      <td>0</td>\n",
       "    </tr>\n",
       "    <tr>\n",
       "      <th>125</th>\n",
       "      <td>16.77</td>\n",
       "      <td>9.540000e+11</td>\n",
       "      <td>2.519730e+12</td>\n",
       "      <td>1.740260e+13</td>\n",
       "      <td>1.81</td>\n",
       "      <td>3.67</td>\n",
       "      <td>328329953</td>\n",
       "      <td>2.29</td>\n",
       "      <td>0</td>\n",
       "    </tr>\n",
       "    <tr>\n",
       "      <th>126</th>\n",
       "      <td>3.36</td>\n",
       "      <td>4.506711e+07</td>\n",
       "      <td>4.714967e+08</td>\n",
       "      <td>7.126577e+08</td>\n",
       "      <td>2.76</td>\n",
       "      <td>1.80</td>\n",
       "      <td>299882</td>\n",
       "      <td>3.24</td>\n",
       "      <td>1</td>\n",
       "    </tr>\n",
       "    <tr>\n",
       "      <th>127</th>\n",
       "      <td>9.11</td>\n",
       "      <td>2.199966e+10</td>\n",
       "      <td>1.060700e+11</td>\n",
       "      <td>3.236180e+11</td>\n",
       "      <td>4.12</td>\n",
       "      <td>28.47</td>\n",
       "      <td>58558267</td>\n",
       "      <td>0.11</td>\n",
       "      <td>0</td>\n",
       "    </tr>\n",
       "  </tbody>\n",
       "</table>\n",
       "<p>128 rows × 9 columns</p>\n",
       "</div>"
      ],
      "text/plain": [
       "     Healthcare Expenditures  Education Expenditures       Exports  \\\n",
       "0                       2.53            2.923862e+09  2.827171e+10   \n",
       "1                      11.34            3.161166e+08  5.631686e+09   \n",
       "2                       9.91            6.777152e+10  3.364310e+11   \n",
       "3                      10.43            2.241872e+10  2.467240e+11   \n",
       "4                       4.04            1.178561e+09  2.362976e+10   \n",
       "..                       ...                     ...           ...   \n",
       "123                     7.10            7.662706e+09  6.344856e+10   \n",
       "124                     9.35            2.774959e+09  1.699176e+10   \n",
       "125                    16.77            9.540000e+11  2.519730e+12   \n",
       "126                     3.36            4.506711e+07  4.714967e+08   \n",
       "127                     9.11            2.199966e+10  1.060700e+11   \n",
       "\n",
       "      Consumption  Inflation Rate  Unemployment  Population  GDP Growth  \\\n",
       "0    4.057062e+10           17.08          7.42    31825299       -0.70   \n",
       "1    1.307507e+10            1.44         18.30     2957728        7.60   \n",
       "2    1.033080e+12            1.61          5.16    25365745        2.11   \n",
       "3    3.160610e+11            1.53          4.49     8879920        1.49   \n",
       "4    3.306206e+10            2.61          4.85    10024283        2.50   \n",
       "..            ...             ...           ...         ...         ...   \n",
       "123  1.433540e+11            7.89          8.19    44386203        3.20   \n",
       "124  4.865871e+10            7.88          8.88     3461731        0.35   \n",
       "125  1.740260e+13            1.81          3.67   328329953        2.29   \n",
       "126  7.126577e+08            2.76          1.80      299882        3.24   \n",
       "127  3.236180e+11            4.12         28.47    58558267        0.11   \n",
       "\n",
       "     income_group  \n",
       "0               1  \n",
       "1               0  \n",
       "2               0  \n",
       "3               0  \n",
       "4               0  \n",
       "..            ...  \n",
       "123             1  \n",
       "124             0  \n",
       "125             0  \n",
       "126             1  \n",
       "127             0  \n",
       "\n",
       "[128 rows x 9 columns]"
      ]
     },
     "execution_count": 9,
     "metadata": {},
     "output_type": "execute_result"
    }
   ],
   "source": [
    "df = df.rename(columns={\"une_2019\": \"Unemployment\",'e_2019':\"Exports\", 'h_2019':\"Healthcare Expenditures\", 'inf_2019':\"Inflation Rate\", 'p_2019':\"Population\",\n",
    "                       'edu_2019':\"Education Expenditures\", 'g_2019':\"GDP Growth\", 'con_2019':\"Consumption\"}, inplace=False)\n",
    "df\n"
   ]
  },
  {
   "cell_type": "code",
   "execution_count": 10,
   "id": "42f782cc",
   "metadata": {},
   "outputs": [
    {
     "data": {
      "text/html": [
       "<div>\n",
       "<style scoped>\n",
       "    .dataframe tbody tr th:only-of-type {\n",
       "        vertical-align: middle;\n",
       "    }\n",
       "\n",
       "    .dataframe tbody tr th {\n",
       "        vertical-align: top;\n",
       "    }\n",
       "\n",
       "    .dataframe thead th {\n",
       "        text-align: right;\n",
       "    }\n",
       "</style>\n",
       "<table border=\"1\" class=\"dataframe\">\n",
       "  <thead>\n",
       "    <tr style=\"text-align: right;\">\n",
       "      <th></th>\n",
       "      <th>Healthcare Expenditures</th>\n",
       "      <th>Education Expenditures</th>\n",
       "      <th>Exports</th>\n",
       "      <th>Consumption</th>\n",
       "      <th>Inflation Rate</th>\n",
       "      <th>Unemployment</th>\n",
       "      <th>Population</th>\n",
       "      <th>GDP Growth</th>\n",
       "    </tr>\n",
       "  </thead>\n",
       "  <tbody>\n",
       "    <tr>\n",
       "      <th>0</th>\n",
       "      <td>2.53</td>\n",
       "      <td>2.923862e+09</td>\n",
       "      <td>2.827171e+10</td>\n",
       "      <td>4.057062e+10</td>\n",
       "      <td>17.08</td>\n",
       "      <td>7.42</td>\n",
       "      <td>31825299</td>\n",
       "      <td>-0.70</td>\n",
       "    </tr>\n",
       "    <tr>\n",
       "      <th>1</th>\n",
       "      <td>11.34</td>\n",
       "      <td>3.161166e+08</td>\n",
       "      <td>5.631686e+09</td>\n",
       "      <td>1.307507e+10</td>\n",
       "      <td>1.44</td>\n",
       "      <td>18.30</td>\n",
       "      <td>2957728</td>\n",
       "      <td>7.60</td>\n",
       "    </tr>\n",
       "    <tr>\n",
       "      <th>2</th>\n",
       "      <td>9.91</td>\n",
       "      <td>6.777152e+10</td>\n",
       "      <td>3.364310e+11</td>\n",
       "      <td>1.033080e+12</td>\n",
       "      <td>1.61</td>\n",
       "      <td>5.16</td>\n",
       "      <td>25365745</td>\n",
       "      <td>2.11</td>\n",
       "    </tr>\n",
       "    <tr>\n",
       "      <th>3</th>\n",
       "      <td>10.43</td>\n",
       "      <td>2.241872e+10</td>\n",
       "      <td>2.467240e+11</td>\n",
       "      <td>3.160610e+11</td>\n",
       "      <td>1.53</td>\n",
       "      <td>4.49</td>\n",
       "      <td>8879920</td>\n",
       "      <td>1.49</td>\n",
       "    </tr>\n",
       "    <tr>\n",
       "      <th>4</th>\n",
       "      <td>4.04</td>\n",
       "      <td>1.178561e+09</td>\n",
       "      <td>2.362976e+10</td>\n",
       "      <td>3.306206e+10</td>\n",
       "      <td>2.61</td>\n",
       "      <td>4.85</td>\n",
       "      <td>10024283</td>\n",
       "      <td>2.50</td>\n",
       "    </tr>\n",
       "    <tr>\n",
       "      <th>...</th>\n",
       "      <td>...</td>\n",
       "      <td>...</td>\n",
       "      <td>...</td>\n",
       "      <td>...</td>\n",
       "      <td>...</td>\n",
       "      <td>...</td>\n",
       "      <td>...</td>\n",
       "      <td>...</td>\n",
       "    </tr>\n",
       "    <tr>\n",
       "      <th>123</th>\n",
       "      <td>7.10</td>\n",
       "      <td>7.662706e+09</td>\n",
       "      <td>6.344856e+10</td>\n",
       "      <td>1.433540e+11</td>\n",
       "      <td>7.89</td>\n",
       "      <td>8.19</td>\n",
       "      <td>44386203</td>\n",
       "      <td>3.20</td>\n",
       "    </tr>\n",
       "    <tr>\n",
       "      <th>124</th>\n",
       "      <td>9.35</td>\n",
       "      <td>2.774959e+09</td>\n",
       "      <td>1.699176e+10</td>\n",
       "      <td>4.865871e+10</td>\n",
       "      <td>7.88</td>\n",
       "      <td>8.88</td>\n",
       "      <td>3461731</td>\n",
       "      <td>0.35</td>\n",
       "    </tr>\n",
       "    <tr>\n",
       "      <th>125</th>\n",
       "      <td>16.77</td>\n",
       "      <td>9.540000e+11</td>\n",
       "      <td>2.519730e+12</td>\n",
       "      <td>1.740260e+13</td>\n",
       "      <td>1.81</td>\n",
       "      <td>3.67</td>\n",
       "      <td>328329953</td>\n",
       "      <td>2.29</td>\n",
       "    </tr>\n",
       "    <tr>\n",
       "      <th>126</th>\n",
       "      <td>3.36</td>\n",
       "      <td>4.506711e+07</td>\n",
       "      <td>4.714967e+08</td>\n",
       "      <td>7.126577e+08</td>\n",
       "      <td>2.76</td>\n",
       "      <td>1.80</td>\n",
       "      <td>299882</td>\n",
       "      <td>3.24</td>\n",
       "    </tr>\n",
       "    <tr>\n",
       "      <th>127</th>\n",
       "      <td>9.11</td>\n",
       "      <td>2.199966e+10</td>\n",
       "      <td>1.060700e+11</td>\n",
       "      <td>3.236180e+11</td>\n",
       "      <td>4.12</td>\n",
       "      <td>28.47</td>\n",
       "      <td>58558267</td>\n",
       "      <td>0.11</td>\n",
       "    </tr>\n",
       "  </tbody>\n",
       "</table>\n",
       "<p>128 rows × 8 columns</p>\n",
       "</div>"
      ],
      "text/plain": [
       "     Healthcare Expenditures  Education Expenditures       Exports  \\\n",
       "0                       2.53            2.923862e+09  2.827171e+10   \n",
       "1                      11.34            3.161166e+08  5.631686e+09   \n",
       "2                       9.91            6.777152e+10  3.364310e+11   \n",
       "3                      10.43            2.241872e+10  2.467240e+11   \n",
       "4                       4.04            1.178561e+09  2.362976e+10   \n",
       "..                       ...                     ...           ...   \n",
       "123                     7.10            7.662706e+09  6.344856e+10   \n",
       "124                     9.35            2.774959e+09  1.699176e+10   \n",
       "125                    16.77            9.540000e+11  2.519730e+12   \n",
       "126                     3.36            4.506711e+07  4.714967e+08   \n",
       "127                     9.11            2.199966e+10  1.060700e+11   \n",
       "\n",
       "      Consumption  Inflation Rate  Unemployment  Population  GDP Growth  \n",
       "0    4.057062e+10           17.08          7.42    31825299       -0.70  \n",
       "1    1.307507e+10            1.44         18.30     2957728        7.60  \n",
       "2    1.033080e+12            1.61          5.16    25365745        2.11  \n",
       "3    3.160610e+11            1.53          4.49     8879920        1.49  \n",
       "4    3.306206e+10            2.61          4.85    10024283        2.50  \n",
       "..            ...             ...           ...         ...         ...  \n",
       "123  1.433540e+11            7.89          8.19    44386203        3.20  \n",
       "124  4.865871e+10            7.88          8.88     3461731        0.35  \n",
       "125  1.740260e+13            1.81          3.67   328329953        2.29  \n",
       "126  7.126577e+08            2.76          1.80      299882        3.24  \n",
       "127  3.236180e+11            4.12         28.47    58558267        0.11  \n",
       "\n",
       "[128 rows x 8 columns]"
      ]
     },
     "execution_count": 10,
     "metadata": {},
     "output_type": "execute_result"
    }
   ],
   "source": [
    "#define Varibles\n",
    "X = df.drop(columns= \"income_group\")\n",
    "X\n"
   ]
  },
  {
   "cell_type": "code",
   "execution_count": 11,
   "id": "2f6dd474",
   "metadata": {},
   "outputs": [
    {
     "data": {
      "text/plain": [
       "0      1\n",
       "1      0\n",
       "2      0\n",
       "3      0\n",
       "4      0\n",
       "      ..\n",
       "123    1\n",
       "124    0\n",
       "125    0\n",
       "126    1\n",
       "127    0\n",
       "Name: income_group, Length: 128, dtype: int32"
      ]
     },
     "execution_count": 11,
     "metadata": {},
     "output_type": "execute_result"
    }
   ],
   "source": [
    "y = df[\"income_group\"]\n",
    "y"
   ]
  },
  {
   "cell_type": "code",
   "execution_count": 12,
   "id": "e74314a6",
   "metadata": {},
   "outputs": [
    {
     "data": {
      "text/plain": [
       "0    79\n",
       "1    49\n",
       "Name: income_group, dtype: int64"
      ]
     },
     "execution_count": 12,
     "metadata": {},
     "output_type": "execute_result"
    }
   ],
   "source": [
    "# Check the balance of our target values\n",
    "y.value_counts()"
   ]
  },
  {
   "cell_type": "code",
   "execution_count": 13,
   "id": "a4194329",
   "metadata": {},
   "outputs": [
    {
     "name": "stdout",
     "output_type": "stream",
     "text": [
      "y = 38.28125% of training group\n"
     ]
    }
   ],
   "source": [
    "y_percent = (49/(79+49))*100\n",
    "print(f\"y = {y_percent}% of training group\")"
   ]
  },
  {
   "cell_type": "code",
   "execution_count": 14,
   "id": "c3f8504b",
   "metadata": {},
   "outputs": [],
   "source": [
    "from sklearn.model_selection import train_test_split\n",
    "X_train, X_test, y_train, y_test = train_test_split(X, y, random_state=1)"
   ]
  },
  {
   "cell_type": "code",
   "execution_count": 15,
   "id": "1406ae3b",
   "metadata": {},
   "outputs": [
    {
     "name": "stdout",
     "output_type": "stream",
     "text": [
      "(96, 8)\n",
      "(32, 8)\n",
      "(96,)\n",
      "(32,)\n"
     ]
    }
   ],
   "source": [
    "#check the size of the training and testing sets\n",
    "# Determine the shape of our training and testing sets.\n",
    "print(X_train.shape)\n",
    "print(X_test.shape)\n",
    "print(y_train.shape)\n",
    "print(y_test.shape)"
   ]
  },
  {
   "cell_type": "code",
   "execution_count": 16,
   "id": "98e67e13",
   "metadata": {},
   "outputs": [],
   "source": [
    "# # Standardize the data with StandardScaler().\n",
    "# income_scaled = StandardScaler().fit_transform(df)\n",
    "# print(income_scaled)\n",
    "\n",
    "\n",
    "\n",
    "# Creating a StandardScaler instance.\n",
    "scaler = StandardScaler()\n",
    "# Fitting the Standard Scaler with the training data.\n",
    "X_scaler = scaler.fit(X_train)\n",
    "\n",
    "# Scaling the data.\n",
    "X_train_scaled = X_scaler.transform(X_train)\n",
    "X_test_scaled = X_scaler.transform(X_test)"
   ]
  },
  {
   "cell_type": "markdown",
   "id": "2e75040f",
   "metadata": {},
   "source": [
    "## Random Forest Classifier\n"
   ]
  },
  {
   "cell_type": "code",
   "execution_count": 17,
   "id": "2b5d97b3",
   "metadata": {},
   "outputs": [],
   "source": [
    "# Resample the training data with the BalancedRandomForestClassifier\n",
    "random_forest = RandomForestClassifier(n_estimators=100, random_state=1)"
   ]
  },
  {
   "cell_type": "code",
   "execution_count": 18,
   "id": "c6db7ca6",
   "metadata": {},
   "outputs": [],
   "source": [
    "#fit the model\n",
    "# random_forest = random_forest.fit(X_train, y_train)\n",
    "random_forest = random_forest.fit(X_train_scaled, y_train)"
   ]
  },
  {
   "cell_type": "code",
   "execution_count": 19,
   "id": "34df1b08",
   "metadata": {},
   "outputs": [],
   "source": [
    "#make predictions\n",
    "predictions = random_forest.predict(X_test_scaled)"
   ]
  },
  {
   "cell_type": "code",
   "execution_count": 20,
   "id": "9b93a2a6",
   "metadata": {},
   "outputs": [
    {
     "data": {
      "text/plain": [
       "0.825"
      ]
     },
     "execution_count": 20,
     "metadata": {},
     "output_type": "execute_result"
    }
   ],
   "source": [
    "#calculate balanced accuracy score\n",
    "y_pred = random_forest.predict(X_test_scaled)\n",
    "rf_acc_score = balanced_accuracy_score(y_test, y_pred)\n",
    "rf_acc_score"
   ]
  },
  {
   "cell_type": "code",
   "execution_count": 21,
   "id": "cb78c92a",
   "metadata": {},
   "outputs": [
    {
     "data": {
      "text/plain": [
       "array([[18,  2],\n",
       "       [ 3,  9]], dtype=int64)"
      ]
     },
     "execution_count": 21,
     "metadata": {},
     "output_type": "execute_result"
    }
   ],
   "source": [
    "#create the confusion matrix\n",
    "cm = confusion_matrix(y_test, y_pred)\n",
    "cm"
   ]
  },
  {
   "cell_type": "code",
   "execution_count": 22,
   "id": "010d9dae",
   "metadata": {},
   "outputs": [
    {
     "data": {
      "text/html": [
       "<div>\n",
       "<style scoped>\n",
       "    .dataframe tbody tr th:only-of-type {\n",
       "        vertical-align: middle;\n",
       "    }\n",
       "\n",
       "    .dataframe tbody tr th {\n",
       "        vertical-align: top;\n",
       "    }\n",
       "\n",
       "    .dataframe thead th {\n",
       "        text-align: right;\n",
       "    }\n",
       "</style>\n",
       "<table border=\"1\" class=\"dataframe\">\n",
       "  <thead>\n",
       "    <tr style=\"text-align: right;\">\n",
       "      <th></th>\n",
       "      <th>Predicted High Income</th>\n",
       "      <th>Predicted Low Income</th>\n",
       "    </tr>\n",
       "  </thead>\n",
       "  <tbody>\n",
       "    <tr>\n",
       "      <th>Actual High Income</th>\n",
       "      <td>18</td>\n",
       "      <td>2</td>\n",
       "    </tr>\n",
       "    <tr>\n",
       "      <th>Actual Low Income</th>\n",
       "      <td>3</td>\n",
       "      <td>9</td>\n",
       "    </tr>\n",
       "  </tbody>\n",
       "</table>\n",
       "</div>"
      ],
      "text/plain": [
       "                    Predicted High Income   Predicted Low Income\n",
       "Actual High Income                     18                      2\n",
       "Actual Low Income                       3                      9"
      ]
     },
     "execution_count": 22,
     "metadata": {},
     "output_type": "execute_result"
    }
   ],
   "source": [
    "#display the confusion matrix\n",
    "rf_cm_df = pd.DataFrame(cm)\n",
    "rf_cm_df = rf_cm_df.set_axis([\"Predicted High Income\", \" Predicted Low Income\"], axis = 1)\n",
    "rf_cm_df = rf_cm_df.set_axis([\"Actual High Income\", \"Actual Low Income\"], axis = 0)\n",
    "rf_cm_df"
   ]
  },
  {
   "cell_type": "code",
   "execution_count": 23,
   "id": "faf6f73c",
   "metadata": {},
   "outputs": [
    {
     "name": "stdout",
     "output_type": "stream",
     "text": [
      "              precision    recall  f1-score   support\n",
      "\n",
      "           0       0.86      0.90      0.88        20\n",
      "           1       0.82      0.75      0.78        12\n",
      "\n",
      "    accuracy                           0.84        32\n",
      "   macro avg       0.84      0.82      0.83        32\n",
      "weighted avg       0.84      0.84      0.84        32\n",
      "\n"
     ]
    }
   ],
   "source": [
    "#Print imbalanced classification report\n",
    "rf_imbalanced_classification_report = classification_report(y_test, y_pred)\n",
    "print(rf_imbalanced_classification_report)"
   ]
  },
  {
   "cell_type": "code",
   "execution_count": 24,
   "id": "b3276157",
   "metadata": {},
   "outputs": [
    {
     "data": {
      "text/plain": [
       "[(0.20263581061361444, 'Exports'),\n",
       " (0.1508718466995432, 'Healthcare Expenditures'),\n",
       " (0.14922838270663585, 'Inflation Rate'),\n",
       " (0.13270022316218957, 'Population'),\n",
       " (0.12702210445601658, 'Education Expenditures'),\n",
       " (0.09074350099131952, 'GDP Growth'),\n",
       " (0.0891304630718977, 'Consumption'),\n",
       " (0.05766766829878314, 'Unemployment')]"
      ]
     },
     "execution_count": 24,
     "metadata": {},
     "output_type": "execute_result"
    }
   ],
   "source": [
    "# Calculate feature importance in the Random Forest model.\n",
    "# importances = random_forest.feature_importances_\n",
    "# importances\n",
    "\n",
    "# sort by importance\n",
    "rf_importances = sorted(zip(random_forest.feature_importances_, X.columns), reverse=True)\n",
    "rf_importances"
   ]
  },
  {
   "cell_type": "code",
   "execution_count": 25,
   "id": "87523ffb",
   "metadata": {},
   "outputs": [
    {
     "name": "stdout",
     "output_type": "stream",
     "text": [
      "   Importance                Indicator\n",
      "0    0.202636                  Exports\n",
      "1    0.150872  Healthcare Expenditures\n",
      "2    0.149228           Inflation Rate\n",
      "3    0.132700               Population\n",
      "4    0.127022   Education Expenditures\n",
      "5    0.090744               GDP Growth\n",
      "6    0.089130              Consumption\n",
      "7    0.057668             Unemployment\n"
     ]
    }
   ],
   "source": [
    "#Summarize importances using a df\n",
    "#a. read into df\n",
    "rf_features_importances_df = pd.DataFrame(rf_importances)\n",
    "\n",
    "# b. rename columns\n",
    "rf_features_importances_df = rf_features_importances_df.set_axis([\"Importance\", \"Indicator\"], axis=1)\n",
    "print(rf_features_importances_df)\n"
   ]
  },
  {
   "cell_type": "code",
   "execution_count": 26,
   "id": "f459fd1e",
   "metadata": {},
   "outputs": [
    {
     "data": {
      "text/html": [
       "<div>\n",
       "<style scoped>\n",
       "    .dataframe tbody tr th:only-of-type {\n",
       "        vertical-align: middle;\n",
       "    }\n",
       "\n",
       "    .dataframe tbody tr th {\n",
       "        vertical-align: top;\n",
       "    }\n",
       "\n",
       "    .dataframe thead th {\n",
       "        text-align: right;\n",
       "    }\n",
       "</style>\n",
       "<table border=\"1\" class=\"dataframe\">\n",
       "  <thead>\n",
       "    <tr style=\"text-align: right;\">\n",
       "      <th></th>\n",
       "      <th>Importance</th>\n",
       "      <th>Indicator</th>\n",
       "    </tr>\n",
       "  </thead>\n",
       "  <tbody>\n",
       "    <tr>\n",
       "      <th>0</th>\n",
       "      <td>0.20</td>\n",
       "      <td>Exports</td>\n",
       "    </tr>\n",
       "    <tr>\n",
       "      <th>1</th>\n",
       "      <td>0.15</td>\n",
       "      <td>Healthcare Expenditures</td>\n",
       "    </tr>\n",
       "    <tr>\n",
       "      <th>2</th>\n",
       "      <td>0.15</td>\n",
       "      <td>Inflation Rate</td>\n",
       "    </tr>\n",
       "    <tr>\n",
       "      <th>3</th>\n",
       "      <td>0.13</td>\n",
       "      <td>Population</td>\n",
       "    </tr>\n",
       "    <tr>\n",
       "      <th>4</th>\n",
       "      <td>0.13</td>\n",
       "      <td>Education Expenditures</td>\n",
       "    </tr>\n",
       "    <tr>\n",
       "      <th>5</th>\n",
       "      <td>0.09</td>\n",
       "      <td>GDP Growth</td>\n",
       "    </tr>\n",
       "    <tr>\n",
       "      <th>6</th>\n",
       "      <td>0.09</td>\n",
       "      <td>Consumption</td>\n",
       "    </tr>\n",
       "    <tr>\n",
       "      <th>7</th>\n",
       "      <td>0.06</td>\n",
       "      <td>Unemployment</td>\n",
       "    </tr>\n",
       "  </tbody>\n",
       "</table>\n",
       "</div>"
      ],
      "text/plain": [
       "   Importance                Indicator\n",
       "0        0.20                  Exports\n",
       "1        0.15  Healthcare Expenditures\n",
       "2        0.15           Inflation Rate\n",
       "3        0.13               Population\n",
       "4        0.13   Education Expenditures\n",
       "5        0.09               GDP Growth\n",
       "6        0.09              Consumption\n",
       "7        0.06             Unemployment"
      ]
     },
     "execution_count": 26,
     "metadata": {},
     "output_type": "execute_result"
    }
   ],
   "source": [
    "#summary df rounded\n",
    "rounded_rf_features_importances_df = rf_features_importances_df.round(2)\n",
    "rounded_rf_features_importances_df"
   ]
  },
  {
   "cell_type": "markdown",
   "id": "7149eea6",
   "metadata": {},
   "source": [
    "## Balanced Random Forest"
   ]
  },
  {
   "cell_type": "code",
   "execution_count": 27,
   "id": "6fac5da1",
   "metadata": {},
   "outputs": [],
   "source": [
    "# Resample the training data with the BalancedRandomForestClassifier\n",
    "from imblearn.ensemble import BalancedRandomForestClassifier\n",
    "balanced_forest = BalancedRandomForestClassifier(n_estimators=100, random_state=1)\n"
   ]
  },
  {
   "cell_type": "code",
   "execution_count": 28,
   "id": "ab08a389",
   "metadata": {},
   "outputs": [],
   "source": [
    "#fit the model\n",
    "# balanced_forest = balanced_forest.fit(X_train, y_train)\n",
    "balanced_forest = balanced_forest.fit(X_train_scaled, y_train)"
   ]
  },
  {
   "cell_type": "code",
   "execution_count": 29,
   "id": "ce1ec346",
   "metadata": {},
   "outputs": [],
   "source": [
    "#make predictions\n",
    "predictions = balanced_forest.predict(X_test_scaled)"
   ]
  },
  {
   "cell_type": "code",
   "execution_count": 30,
   "id": "6becf794",
   "metadata": {},
   "outputs": [
    {
     "data": {
      "text/plain": [
       "0.8"
      ]
     },
     "execution_count": 30,
     "metadata": {},
     "output_type": "execute_result"
    }
   ],
   "source": [
    "#calculate balanced accuracy score\n",
    "# y_pred = balanced_forest.predict(X_test)\n",
    "y_pred = balanced_forest.predict(X_test_scaled)\n",
    "brf_acc_score = balanced_accuracy_score(y_test, y_pred)\n",
    "brf_acc_score"
   ]
  },
  {
   "cell_type": "code",
   "execution_count": 31,
   "id": "e4df238b",
   "metadata": {},
   "outputs": [
    {
     "data": {
      "text/plain": [
       "array([[17,  3],\n",
       "       [ 3,  9]], dtype=int64)"
      ]
     },
     "execution_count": 31,
     "metadata": {},
     "output_type": "execute_result"
    }
   ],
   "source": [
    "#display the confusion matrix\n",
    "cm = confusion_matrix(y_test, y_pred)\n",
    "cm"
   ]
  },
  {
   "cell_type": "code",
   "execution_count": 32,
   "id": "dd193b9c",
   "metadata": {},
   "outputs": [
    {
     "data": {
      "text/html": [
       "<div>\n",
       "<style scoped>\n",
       "    .dataframe tbody tr th:only-of-type {\n",
       "        vertical-align: middle;\n",
       "    }\n",
       "\n",
       "    .dataframe tbody tr th {\n",
       "        vertical-align: top;\n",
       "    }\n",
       "\n",
       "    .dataframe thead th {\n",
       "        text-align: right;\n",
       "    }\n",
       "</style>\n",
       "<table border=\"1\" class=\"dataframe\">\n",
       "  <thead>\n",
       "    <tr style=\"text-align: right;\">\n",
       "      <th></th>\n",
       "      <th>Predicted High Income</th>\n",
       "      <th>Predicted Low Income</th>\n",
       "    </tr>\n",
       "  </thead>\n",
       "  <tbody>\n",
       "    <tr>\n",
       "      <th>Actual High Income</th>\n",
       "      <td>17</td>\n",
       "      <td>3</td>\n",
       "    </tr>\n",
       "    <tr>\n",
       "      <th>Actual Low Income</th>\n",
       "      <td>3</td>\n",
       "      <td>9</td>\n",
       "    </tr>\n",
       "  </tbody>\n",
       "</table>\n",
       "</div>"
      ],
      "text/plain": [
       "                    Predicted High Income   Predicted Low Income\n",
       "Actual High Income                     17                      3\n",
       "Actual Low Income                       3                      9"
      ]
     },
     "execution_count": 32,
     "metadata": {},
     "output_type": "execute_result"
    }
   ],
   "source": [
    "brf_cm_df = pd.DataFrame(cm)\n",
    "brf_cm_df = brf_cm_df.set_axis([\"Predicted High Income\", \" Predicted Low Income\"], axis = 1)\n",
    "brf_cm_df = brf_cm_df.set_axis([\"Actual High Income\", \"Actual Low Income\"], axis = 0)\n",
    "brf_cm_df"
   ]
  },
  {
   "cell_type": "code",
   "execution_count": 33,
   "id": "074134bd",
   "metadata": {},
   "outputs": [
    {
     "name": "stdout",
     "output_type": "stream",
     "text": [
      "              precision    recall  f1-score   support\n",
      "\n",
      "           0       0.85      0.85      0.85        20\n",
      "           1       0.75      0.75      0.75        12\n",
      "\n",
      "    accuracy                           0.81        32\n",
      "   macro avg       0.80      0.80      0.80        32\n",
      "weighted avg       0.81      0.81      0.81        32\n",
      "\n"
     ]
    }
   ],
   "source": [
    "#Print imbalanced classification report\n",
    "brf_imbalanced_classification_report = classification_report(y_test, y_pred)\n",
    "print(brf_imbalanced_classification_report)"
   ]
  },
  {
   "cell_type": "code",
   "execution_count": 34,
   "id": "be451674",
   "metadata": {},
   "outputs": [
    {
     "data": {
      "text/plain": [
       "[(0.2139353244023755, 'Exports'),\n",
       " (0.15567810035383087, 'Healthcare Expenditures'),\n",
       " (0.13979544771317348, 'Inflation Rate'),\n",
       " (0.12907788786821772, 'Population'),\n",
       " (0.1268409930368637, 'Education Expenditures'),\n",
       " (0.09429433258179466, 'Consumption'),\n",
       " (0.08265137475137282, 'GDP Growth'),\n",
       " (0.05772653929237132, 'Unemployment')]"
      ]
     },
     "execution_count": 34,
     "metadata": {},
     "output_type": "execute_result"
    }
   ],
   "source": [
    "# Calculate feature importance in the Random Forest model.\n",
    "# importances = random_forest.feature_importances_\n",
    "# importances\n",
    "\n",
    "# sort by importance\n",
    "brf_importances = sorted(zip(balanced_forest.feature_importances_, X.columns), reverse=True)\n",
    "brf_importances"
   ]
  },
  {
   "cell_type": "code",
   "execution_count": 35,
   "id": "62ffa2be",
   "metadata": {},
   "outputs": [],
   "source": [
    "#Summarize importances using a df\n",
    "#a. read into df\n",
    "brf_features_importances_df = pd.DataFrame(brf_importances)\n",
    "brf_features_importances_df\n",
    "\n",
    "# b. rename columns\n",
    "brf_features_importances_df = brf_features_importances_df.set_axis([\"Importance\", \"Indicator\"], axis=1)\n",
    "# print(brf_features_importances_df)"
   ]
  },
  {
   "cell_type": "code",
   "execution_count": 36,
   "id": "6a9047bc",
   "metadata": {},
   "outputs": [
    {
     "data": {
      "text/html": [
       "<div>\n",
       "<style scoped>\n",
       "    .dataframe tbody tr th:only-of-type {\n",
       "        vertical-align: middle;\n",
       "    }\n",
       "\n",
       "    .dataframe tbody tr th {\n",
       "        vertical-align: top;\n",
       "    }\n",
       "\n",
       "    .dataframe thead th {\n",
       "        text-align: right;\n",
       "    }\n",
       "</style>\n",
       "<table border=\"1\" class=\"dataframe\">\n",
       "  <thead>\n",
       "    <tr style=\"text-align: right;\">\n",
       "      <th></th>\n",
       "      <th>Importance</th>\n",
       "      <th>Indicator</th>\n",
       "    </tr>\n",
       "  </thead>\n",
       "  <tbody>\n",
       "    <tr>\n",
       "      <th>0</th>\n",
       "      <td>0.213935</td>\n",
       "      <td>Exports</td>\n",
       "    </tr>\n",
       "    <tr>\n",
       "      <th>1</th>\n",
       "      <td>0.155678</td>\n",
       "      <td>Healthcare Expenditures</td>\n",
       "    </tr>\n",
       "    <tr>\n",
       "      <th>2</th>\n",
       "      <td>0.139795</td>\n",
       "      <td>Inflation Rate</td>\n",
       "    </tr>\n",
       "    <tr>\n",
       "      <th>3</th>\n",
       "      <td>0.129078</td>\n",
       "      <td>Population</td>\n",
       "    </tr>\n",
       "    <tr>\n",
       "      <th>4</th>\n",
       "      <td>0.126841</td>\n",
       "      <td>Education Expenditures</td>\n",
       "    </tr>\n",
       "    <tr>\n",
       "      <th>5</th>\n",
       "      <td>0.094294</td>\n",
       "      <td>Consumption</td>\n",
       "    </tr>\n",
       "    <tr>\n",
       "      <th>6</th>\n",
       "      <td>0.082651</td>\n",
       "      <td>GDP Growth</td>\n",
       "    </tr>\n",
       "    <tr>\n",
       "      <th>7</th>\n",
       "      <td>0.057727</td>\n",
       "      <td>Unemployment</td>\n",
       "    </tr>\n",
       "  </tbody>\n",
       "</table>\n",
       "</div>"
      ],
      "text/plain": [
       "   Importance                Indicator\n",
       "0    0.213935                  Exports\n",
       "1    0.155678  Healthcare Expenditures\n",
       "2    0.139795           Inflation Rate\n",
       "3    0.129078               Population\n",
       "4    0.126841   Education Expenditures\n",
       "5    0.094294              Consumption\n",
       "6    0.082651               GDP Growth\n",
       "7    0.057727             Unemployment"
      ]
     },
     "execution_count": 36,
     "metadata": {},
     "output_type": "execute_result"
    }
   ],
   "source": [
    "brf_features_importances_df"
   ]
  },
  {
   "cell_type": "markdown",
   "id": "3b7e30c3",
   "metadata": {},
   "source": [
    "## Over Sampling"
   ]
  },
  {
   "cell_type": "code",
   "execution_count": 37,
   "id": "35362082",
   "metadata": {},
   "outputs": [
    {
     "data": {
      "text/plain": [
       "Counter({0: 59, 1: 59})"
      ]
     },
     "execution_count": 37,
     "metadata": {},
     "output_type": "execute_result"
    }
   ],
   "source": [
    "ros = RandomOverSampler(random_state=1)\n",
    "X_resampled, y_resampled = ros.fit_resample(X_train_scaled, y_train)\n",
    "\n",
    "Counter(y_resampled)"
   ]
  },
  {
   "cell_type": "code",
   "execution_count": 38,
   "id": "b597b048",
   "metadata": {},
   "outputs": [
    {
     "data": {
      "text/plain": [
       "LogisticRegression(random_state=1)"
      ]
     },
     "execution_count": 38,
     "metadata": {},
     "output_type": "execute_result"
    }
   ],
   "source": [
    "# Train the Logistic Regression model using the resampled data\n",
    "\n",
    "model = LogisticRegression(solver='lbfgs', random_state=1)\n",
    "model.fit(X_resampled, y_resampled)"
   ]
  },
  {
   "cell_type": "code",
   "execution_count": 39,
   "id": "7256795d",
   "metadata": {},
   "outputs": [
    {
     "data": {
      "text/plain": [
       "0.5"
      ]
     },
     "execution_count": 39,
     "metadata": {},
     "output_type": "execute_result"
    }
   ],
   "source": [
    "# Calculated the balanced accuracy score\n",
    "from sklearn.metrics import balanced_accuracy_score\n",
    "y_pred = model.predict(X_test)\n",
    "balanced_accuracy_score(y_test, y_pred)"
   ]
  },
  {
   "cell_type": "code",
   "execution_count": 40,
   "id": "c786af0a",
   "metadata": {},
   "outputs": [],
   "source": [
    "# Display the confusion matrix\n",
    "from sklearn.metrics import confusion_matrix\n",
    "cm = confusion_matrix(y_test, y_pred)"
   ]
  },
  {
   "cell_type": "code",
   "execution_count": 41,
   "id": "7870f411",
   "metadata": {},
   "outputs": [
    {
     "data": {
      "text/html": [
       "<div>\n",
       "<style scoped>\n",
       "    .dataframe tbody tr th:only-of-type {\n",
       "        vertical-align: middle;\n",
       "    }\n",
       "\n",
       "    .dataframe tbody tr th {\n",
       "        vertical-align: top;\n",
       "    }\n",
       "\n",
       "    .dataframe thead th {\n",
       "        text-align: right;\n",
       "    }\n",
       "</style>\n",
       "<table border=\"1\" class=\"dataframe\">\n",
       "  <thead>\n",
       "    <tr style=\"text-align: right;\">\n",
       "      <th></th>\n",
       "      <th>Predicted High Income</th>\n",
       "      <th>Predicted Low Income</th>\n",
       "    </tr>\n",
       "  </thead>\n",
       "  <tbody>\n",
       "    <tr>\n",
       "      <th>Actual High Income</th>\n",
       "      <td>18</td>\n",
       "      <td>2</td>\n",
       "    </tr>\n",
       "    <tr>\n",
       "      <th>Actual Low Income</th>\n",
       "      <td>3</td>\n",
       "      <td>9</td>\n",
       "    </tr>\n",
       "  </tbody>\n",
       "</table>\n",
       "</div>"
      ],
      "text/plain": [
       "                    Predicted High Income   Predicted Low Income\n",
       "Actual High Income                     18                      2\n",
       "Actual Low Income                       3                      9"
      ]
     },
     "execution_count": 41,
     "metadata": {},
     "output_type": "execute_result"
    }
   ],
   "source": [
    "#display the confusion matrix\n",
    "os_cm_df = pd.DataFrame(cm)\n",
    "os_cm_df = rf_cm_df.set_axis([\"Predicted High Income\", \" Predicted Low Income\"], axis = 1)\n",
    "os_cm_df = rf_cm_df.set_axis([\"Actual High Income\", \"Actual Low Income\"], axis = 0)\n",
    "os_cm_df"
   ]
  },
  {
   "cell_type": "code",
   "execution_count": 42,
   "id": "a3048ac2",
   "metadata": {},
   "outputs": [
    {
     "name": "stdout",
     "output_type": "stream",
     "text": [
      "                   pre       rec       spe        f1       geo       iba       sup\n",
      "\n",
      "          0       0.62      1.00      0.00      0.77      0.00      0.00        20\n",
      "          1       0.00      0.00      1.00      0.00      0.00      0.00        12\n",
      "\n",
      "avg / total       0.39      0.62      0.38      0.48      0.00      0.00        32\n",
      "\n"
     ]
    }
   ],
   "source": [
    "# Print the imbalanced classification report\n",
    "from imblearn.metrics import classification_report_imbalanced\n",
    "print(classification_report_imbalanced(y_test, y_pred))"
   ]
  },
  {
   "cell_type": "markdown",
   "id": "22bb2092",
   "metadata": {},
   "source": [
    "## Under Sampling"
   ]
  },
  {
   "cell_type": "code",
   "execution_count": 43,
   "id": "7b3aaa43",
   "metadata": {},
   "outputs": [
    {
     "data": {
      "text/plain": [
       "Counter({0: 37, 1: 37})"
      ]
     },
     "execution_count": 43,
     "metadata": {},
     "output_type": "execute_result"
    }
   ],
   "source": [
    "from imblearn.under_sampling import ClusterCentroids\n",
    "cc = ClusterCentroids(random_state=1)\n",
    "X_resampled, y_resampled = cc.fit_resample(X_train_scaled, y_train)\n",
    "\n",
    "Counter(y_resampled)"
   ]
  },
  {
   "cell_type": "code",
   "execution_count": 44,
   "id": "5953c9d8",
   "metadata": {},
   "outputs": [
    {
     "data": {
      "text/plain": [
       "LogisticRegression(random_state=1)"
      ]
     },
     "execution_count": 44,
     "metadata": {},
     "output_type": "execute_result"
    }
   ],
   "source": [
    "# Train the Logistic Regression model using the resampled data\n",
    "model = LogisticRegression(solver='lbfgs', random_state=1)\n",
    "model.fit(X_resampled, y_resampled)"
   ]
  },
  {
   "cell_type": "code",
   "execution_count": 45,
   "id": "feb942ef",
   "metadata": {},
   "outputs": [
    {
     "data": {
      "text/plain": [
       "0.7416666666666667"
      ]
     },
     "execution_count": 45,
     "metadata": {},
     "output_type": "execute_result"
    }
   ],
   "source": [
    "# Calculated the balanced accuracy score\n",
    "y_pred = model.predict(X_test_scaled)\n",
    "balanced_accuracy_score(y_test, y_pred)"
   ]
  },
  {
   "cell_type": "code",
   "execution_count": 46,
   "id": "d42989bf",
   "metadata": {},
   "outputs": [],
   "source": [
    "# Display the confusion matrix\n",
    "cm = confusion_matrix(y_test, y_pred)"
   ]
  },
  {
   "cell_type": "code",
   "execution_count": 47,
   "id": "98ed5e93",
   "metadata": {},
   "outputs": [
    {
     "data": {
      "text/html": [
       "<div>\n",
       "<style scoped>\n",
       "    .dataframe tbody tr th:only-of-type {\n",
       "        vertical-align: middle;\n",
       "    }\n",
       "\n",
       "    .dataframe tbody tr th {\n",
       "        vertical-align: top;\n",
       "    }\n",
       "\n",
       "    .dataframe thead th {\n",
       "        text-align: right;\n",
       "    }\n",
       "</style>\n",
       "<table border=\"1\" class=\"dataframe\">\n",
       "  <thead>\n",
       "    <tr style=\"text-align: right;\">\n",
       "      <th></th>\n",
       "      <th>Predicted High Income</th>\n",
       "      <th>Predicted Low Income</th>\n",
       "    </tr>\n",
       "  </thead>\n",
       "  <tbody>\n",
       "    <tr>\n",
       "      <th>Actual High Income</th>\n",
       "      <td>18</td>\n",
       "      <td>2</td>\n",
       "    </tr>\n",
       "    <tr>\n",
       "      <th>Actual Low Income</th>\n",
       "      <td>3</td>\n",
       "      <td>9</td>\n",
       "    </tr>\n",
       "  </tbody>\n",
       "</table>\n",
       "</div>"
      ],
      "text/plain": [
       "                    Predicted High Income   Predicted Low Income\n",
       "Actual High Income                     18                      2\n",
       "Actual Low Income                       3                      9"
      ]
     },
     "execution_count": 47,
     "metadata": {},
     "output_type": "execute_result"
    }
   ],
   "source": [
    "#display the confusion matrix\n",
    "us_cm_df = pd.DataFrame(cm)\n",
    "us_cm_df = rf_cm_df.set_axis([\"Predicted High Income\", \" Predicted Low Income\"], axis = 1)\n",
    "us_cm_df = rf_cm_df.set_axis([\"Actual High Income\", \"Actual Low Income\"], axis = 0)\n",
    "us_cm_df"
   ]
  },
  {
   "cell_type": "code",
   "execution_count": 48,
   "id": "780cb71e",
   "metadata": {},
   "outputs": [
    {
     "name": "stdout",
     "output_type": "stream",
     "text": [
      "                   pre       rec       spe        f1       geo       iba       sup\n",
      "\n",
      "          0       0.87      0.65      0.83      0.74      0.74      0.53        20\n",
      "          1       0.59      0.83      0.65      0.69      0.74      0.55        12\n",
      "\n",
      "avg / total       0.76      0.72      0.76      0.72      0.74      0.54        32\n",
      "\n"
     ]
    }
   ],
   "source": [
    "# Print the imbalanced classification report\n",
    "print(classification_report_imbalanced(y_test, y_pred))"
   ]
  },
  {
   "cell_type": "markdown",
   "id": "e7a7c0f4",
   "metadata": {},
   "source": [
    "## Combination over and under sampling\n"
   ]
  },
  {
   "cell_type": "code",
   "execution_count": 49,
   "id": "451e9c13",
   "metadata": {},
   "outputs": [
    {
     "data": {
      "text/plain": [
       "Counter({0: 44, 1: 30})"
      ]
     },
     "execution_count": 49,
     "metadata": {},
     "output_type": "execute_result"
    }
   ],
   "source": [
    "from imblearn.combine import SMOTEENN\n",
    "smote_enn = SMOTEENN(random_state=1)\n",
    "X_resampled, y_resampled = smote_enn.fit_resample(X, y)\n",
    "\n",
    "Counter(y_resampled)"
   ]
  },
  {
   "cell_type": "code",
   "execution_count": 50,
   "id": "cb0f357f",
   "metadata": {},
   "outputs": [
    {
     "data": {
      "text/plain": [
       "LogisticRegression(random_state=1)"
      ]
     },
     "execution_count": 50,
     "metadata": {},
     "output_type": "execute_result"
    }
   ],
   "source": [
    "# Train the Logistic Regression model using the resampled data\n",
    "model = LogisticRegression(solver='lbfgs', random_state=1)\n",
    "model.fit(X_resampled, y_resampled)"
   ]
  },
  {
   "cell_type": "code",
   "execution_count": 51,
   "id": "65240c56",
   "metadata": {},
   "outputs": [
    {
     "data": {
      "text/plain": [
       "0.5"
      ]
     },
     "execution_count": 51,
     "metadata": {},
     "output_type": "execute_result"
    }
   ],
   "source": [
    "# Calculated the balanced accuracy score\n",
    "y_pred = model.predict(X_test)\n",
    "balanced_accuracy_score(y_test, y_pred)"
   ]
  },
  {
   "cell_type": "code",
   "execution_count": 52,
   "id": "469c9d68",
   "metadata": {},
   "outputs": [],
   "source": [
    "# Display the confusion matrix\n",
    "cm = confusion_matrix(y_test, y_pred)"
   ]
  },
  {
   "cell_type": "code",
   "execution_count": 53,
   "id": "6e8fbd14",
   "metadata": {},
   "outputs": [
    {
     "data": {
      "text/html": [
       "<div>\n",
       "<style scoped>\n",
       "    .dataframe tbody tr th:only-of-type {\n",
       "        vertical-align: middle;\n",
       "    }\n",
       "\n",
       "    .dataframe tbody tr th {\n",
       "        vertical-align: top;\n",
       "    }\n",
       "\n",
       "    .dataframe thead th {\n",
       "        text-align: right;\n",
       "    }\n",
       "</style>\n",
       "<table border=\"1\" class=\"dataframe\">\n",
       "  <thead>\n",
       "    <tr style=\"text-align: right;\">\n",
       "      <th></th>\n",
       "      <th>Predicted High Income</th>\n",
       "      <th>Predicted Low Income</th>\n",
       "    </tr>\n",
       "  </thead>\n",
       "  <tbody>\n",
       "    <tr>\n",
       "      <th>Actual High Income</th>\n",
       "      <td>18</td>\n",
       "      <td>2</td>\n",
       "    </tr>\n",
       "    <tr>\n",
       "      <th>Actual Low Income</th>\n",
       "      <td>3</td>\n",
       "      <td>9</td>\n",
       "    </tr>\n",
       "  </tbody>\n",
       "</table>\n",
       "</div>"
      ],
      "text/plain": [
       "                    Predicted High Income   Predicted Low Income\n",
       "Actual High Income                     18                      2\n",
       "Actual Low Income                       3                      9"
      ]
     },
     "execution_count": 53,
     "metadata": {},
     "output_type": "execute_result"
    }
   ],
   "source": [
    "#display the confusion matrix\n",
    "sm_cm_df = pd.DataFrame(cm)\n",
    "sm_cm_df = rf_cm_df.set_axis([\"Predicted High Income\", \" Predicted Low Income\"], axis = 1)\n",
    "sm_cm_df = rf_cm_df.set_axis([\"Actual High Income\", \"Actual Low Income\"], axis = 0)\n",
    "sm_cm_df"
   ]
  },
  {
   "cell_type": "code",
   "execution_count": 54,
   "id": "69a28196",
   "metadata": {},
   "outputs": [
    {
     "name": "stdout",
     "output_type": "stream",
     "text": [
      "                   pre       rec       spe        f1       geo       iba       sup\n",
      "\n",
      "          0       0.62      1.00      0.00      0.77      0.00      0.00        20\n",
      "          1       0.00      0.00      1.00      0.00      0.00      0.00        12\n",
      "\n",
      "avg / total       0.39      0.62      0.38      0.48      0.00      0.00        32\n",
      "\n"
     ]
    }
   ],
   "source": [
    "# Print the imbalanced classification report\n",
    "print(classification_report_imbalanced(y_test, y_pred))"
   ]
  },
  {
   "cell_type": "markdown",
   "id": "22d54419",
   "metadata": {},
   "source": [
    "# Summary"
   ]
  },
  {
   "cell_type": "code",
   "execution_count": 55,
   "id": "44ec31a4",
   "metadata": {},
   "outputs": [
    {
     "data": {
      "image/png": "[encoded data removed]",
      "text/plain": [
       "<Figure size 1296x720 with 1 Axes>"
      ]
     },
     "metadata": {
      "needs_background": "light"
     },
     "output_type": "display_data"
    }
   ],
   "source": [
    "labels = [\"Random Forest\", \"Balanced Random Forest\", \"Oversampling\", \"Undersampling\", \"SMOTEENN\"]\n",
    "Balanced_Accuracy = [0.83, 0.80, 0.50,  0.74, 0.50]\n",
    "Precision = [0.86, 0.85, 0.63, 0.86, 0.63]\n",
    "Sensativity = [0.90, 0.85 , 1.00,  0.65, 1.00]\n",
    "    \n",
    "x = np.arange(len(labels))  # the label locations\n",
    "width = 0.2  # the width of the bars\n",
    "\n",
    "fig, ax = plt.subplots()\n",
    "rects1 = ax.bar(x - 0.2, Balanced_Accuracy, width, color=\"yellow\", label='Bal. Accuracy' )\n",
    "rects2 = ax.bar(x, Precision, width, color=\"springgreen\", label='Precision')\n",
    "rects3 = ax.bar(x + 0.2, Sensativity, width, color=\"dodgerblue\",label='Sensativity')\n",
    "\n",
    "# Add some text for labels, title and custom x-axis tick labels, etc.\n",
    "ax.set_ylabel('Score')\n",
    "ax.set_title('Model Performance')\n",
    "ax.set_xticks(x, labels)\n",
    "ax.legend()\n",
    "\n",
    "#label bars with \n",
    "ax.bar_label(rects1, padding=3)\n",
    "ax.bar_label(rects2, padding=3)\n",
    "ax.bar_label(rects3, padding=3)\n",
    "\n",
    "fig.tight_layout()\n",
    "fig.set_size_inches(18, 10)\n",
    "plt.savefig('Images/model_performance.png')\n",
    "\n",
    "plt.show()"
   ]
  },
  {
   "cell_type": "code",
   "execution_count": 56,
   "id": "534eaefe",
   "metadata": {},
   "outputs": [
    {
     "data": {
      "text/html": [
       "<div>\n",
       "<style scoped>\n",
       "    .dataframe tbody tr th:only-of-type {\n",
       "        vertical-align: middle;\n",
       "    }\n",
       "\n",
       "    .dataframe tbody tr th {\n",
       "        vertical-align: top;\n",
       "    }\n",
       "\n",
       "    .dataframe thead th {\n",
       "        text-align: right;\n",
       "    }\n",
       "</style>\n",
       "<table border=\"1\" class=\"dataframe\">\n",
       "  <thead>\n",
       "    <tr style=\"text-align: right;\">\n",
       "      <th></th>\n",
       "      <th>Algorithm</th>\n",
       "      <th>Balanced Accuracy</th>\n",
       "      <th>Precision</th>\n",
       "      <th>sensativity</th>\n",
       "    </tr>\n",
       "  </thead>\n",
       "  <tbody>\n",
       "    <tr>\n",
       "      <th>0</th>\n",
       "      <td>Random Forest</td>\n",
       "      <td>0.83</td>\n",
       "      <td>0.86</td>\n",
       "      <td>0.90</td>\n",
       "    </tr>\n",
       "    <tr>\n",
       "      <th>1</th>\n",
       "      <td>Balanced Random Forest</td>\n",
       "      <td>0.80</td>\n",
       "      <td>0.85</td>\n",
       "      <td>0.85</td>\n",
       "    </tr>\n",
       "    <tr>\n",
       "      <th>2</th>\n",
       "      <td>Oversampling</td>\n",
       "      <td>0.50</td>\n",
       "      <td>0.63</td>\n",
       "      <td>1.00</td>\n",
       "    </tr>\n",
       "    <tr>\n",
       "      <th>3</th>\n",
       "      <td>Undersampling</td>\n",
       "      <td>0.74</td>\n",
       "      <td>0.86</td>\n",
       "      <td>0.65</td>\n",
       "    </tr>\n",
       "    <tr>\n",
       "      <th>4</th>\n",
       "      <td>SMOTEENN</td>\n",
       "      <td>0.50</td>\n",
       "      <td>0.63</td>\n",
       "      <td>1.00</td>\n",
       "    </tr>\n",
       "  </tbody>\n",
       "</table>\n",
       "</div>"
      ],
      "text/plain": [
       "                Algorithm  Balanced Accuracy  Precision  sensativity\n",
       "0           Random Forest               0.83       0.86         0.90\n",
       "1  Balanced Random Forest               0.80       0.85         0.85\n",
       "2            Oversampling               0.50       0.63         1.00\n",
       "3           Undersampling               0.74       0.86         0.65\n",
       "4                SMOTEENN               0.50       0.63         1.00"
      ]
     },
     "execution_count": 56,
     "metadata": {},
     "output_type": "execute_result"
    }
   ],
   "source": [
    "#create df of results\n",
    "summary_df = pd.DataFrame(list(zip(labels, Balanced_Accuracy, Precision,  Sensativity)),\n",
    "               columns =[\"Algorithm\", \"Balanced Accuracy\", \"Precision\", \"sensativity\"])\n",
    "summary_df"
   ]
  },
  {
   "cell_type": "code",
   "execution_count": 57,
   "id": "62d93335",
   "metadata": {},
   "outputs": [
    {
     "name": "stdout",
     "output_type": "stream",
     "text": [
      "Best Preforming model: Random Forest Algorithm\n",
      "\n",
      "Accuracy Score:0.825\n",
      "\n",
      "Random  Forest Imbalanced Classification Report\n",
      "              precision    recall  f1-score   support\n",
      "\n",
      "           0       0.86      0.90      0.88        20\n",
      "           1       0.82      0.75      0.78        12\n",
      "\n",
      "    accuracy                           0.84        32\n",
      "   macro avg       0.84      0.82      0.83        32\n",
      "weighted avg       0.84      0.84      0.84        32\n",
      "\n"
     ]
    },
    {
     "data": {
      "text/html": [
       "<div>\n",
       "<style scoped>\n",
       "    .dataframe tbody tr th:only-of-type {\n",
       "        vertical-align: middle;\n",
       "    }\n",
       "\n",
       "    .dataframe tbody tr th {\n",
       "        vertical-align: top;\n",
       "    }\n",
       "\n",
       "    .dataframe thead th {\n",
       "        text-align: right;\n",
       "    }\n",
       "</style>\n",
       "<table border=\"1\" class=\"dataframe\">\n",
       "  <thead>\n",
       "    <tr style=\"text-align: right;\">\n",
       "      <th></th>\n",
       "      <th>Importance</th>\n",
       "      <th>Indicator</th>\n",
       "    </tr>\n",
       "  </thead>\n",
       "  <tbody>\n",
       "    <tr>\n",
       "      <th>0</th>\n",
       "      <td>0.202636</td>\n",
       "      <td>Exports</td>\n",
       "    </tr>\n",
       "    <tr>\n",
       "      <th>1</th>\n",
       "      <td>0.150872</td>\n",
       "      <td>Healthcare Expenditures</td>\n",
       "    </tr>\n",
       "    <tr>\n",
       "      <th>2</th>\n",
       "      <td>0.149228</td>\n",
       "      <td>Inflation Rate</td>\n",
       "    </tr>\n",
       "    <tr>\n",
       "      <th>3</th>\n",
       "      <td>0.132700</td>\n",
       "      <td>Population</td>\n",
       "    </tr>\n",
       "    <tr>\n",
       "      <th>4</th>\n",
       "      <td>0.127022</td>\n",
       "      <td>Education Expenditures</td>\n",
       "    </tr>\n",
       "    <tr>\n",
       "      <th>5</th>\n",
       "      <td>0.090744</td>\n",
       "      <td>GDP Growth</td>\n",
       "    </tr>\n",
       "    <tr>\n",
       "      <th>6</th>\n",
       "      <td>0.089130</td>\n",
       "      <td>Consumption</td>\n",
       "    </tr>\n",
       "    <tr>\n",
       "      <th>7</th>\n",
       "      <td>0.057668</td>\n",
       "      <td>Unemployment</td>\n",
       "    </tr>\n",
       "  </tbody>\n",
       "</table>\n",
       "</div>"
      ],
      "text/plain": [
       "   Importance                Indicator\n",
       "0    0.202636                  Exports\n",
       "1    0.150872  Healthcare Expenditures\n",
       "2    0.149228           Inflation Rate\n",
       "3    0.132700               Population\n",
       "4    0.127022   Education Expenditures\n",
       "5    0.090744               GDP Growth\n",
       "6    0.089130              Consumption\n",
       "7    0.057668             Unemployment"
      ]
     },
     "execution_count": 57,
     "metadata": {},
     "output_type": "execute_result"
    }
   ],
   "source": [
    "# summarize resulte of model that preformed the best\n",
    "print('Best Preforming model: Random Forest Algorithm')\n",
    "print(\"\")\n",
    "print(f\"Accuracy Score:{rf_acc_score}\")\n",
    "print(\"\")\n",
    "print(\"Random  Forest Imbalanced Classification Report\")\n",
    "print(rf_imbalanced_classification_report)\n",
    "rf_features_importances_df\n"
   ]
  },
  {
   "cell_type": "code",
   "execution_count": null,
   "id": "f36c6a6c",
   "metadata": {},
   "outputs": [],
   "source": []
  }
 ],
 "metadata": {
  "kernelspec": {
   "display_name": "mlenv",
   "language": "python",
   "name": "mlenv"
  },
  "language_info": {
   "codemirror_mode": {
    "name": "ipython",
    "version": 3
   },
   "file_extension": ".py",
   "mimetype": "text/x-python",
   "name": "python",
   "nbconvert_exporter": "python",
   "pygments_lexer": "ipython3",
   "version": "3.7.13"
  }
 },
 "nbformat": 4,
 "nbformat_minor": 5
}
